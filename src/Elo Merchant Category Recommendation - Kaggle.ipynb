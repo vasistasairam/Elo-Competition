{
 "cells": [
  {
   "cell_type": "markdown",
   "metadata": {},
   "source": [
    "<h1 id=\"tocheading\">Table of Contents</h1>\n",
    "<div id=\"toc\"></div>"
   ]
  },
  {
   "cell_type": "code",
   "execution_count": 2,
   "metadata": {},
   "outputs": [
    {
     "data": {
      "application/javascript": [
       "$.getScript('https://kmahelona.github.io/ipython_notebook_goodies/ipython_notebook_toc.js')"
      ],
      "text/plain": [
       "<IPython.core.display.Javascript object>"
      ]
     },
     "metadata": {},
     "output_type": "display_data"
    }
   ],
   "source": [
    "%%javascript\n",
    "$.getScript('https://kmahelona.github.io/ipython_notebook_goodies/ipython_notebook_toc.js')"
   ]
  },
  {
   "cell_type": "markdown",
   "metadata": {},
   "source": [
    "# Import Packages"
   ]
  },
  {
   "cell_type": "code",
   "execution_count": 3,
   "metadata": {
    "collapsed": true
   },
   "outputs": [],
   "source": [
    "import pandas as pd\n",
    "import numpy as np\n",
    "import matplotlib.pyplot as plt\n",
    "import seaborn as sns"
   ]
  },
  {
   "cell_type": "markdown",
   "metadata": {},
   "source": [
    "# Train Dataset"
   ]
  },
  {
   "cell_type": "code",
   "execution_count": 4,
   "metadata": {},
   "outputs": [
    {
     "data": {
      "text/html": [
       "<div>\n",
       "<style>\n",
       "    .dataframe thead tr:only-child th {\n",
       "        text-align: right;\n",
       "    }\n",
       "\n",
       "    .dataframe thead th {\n",
       "        text-align: left;\n",
       "    }\n",
       "\n",
       "    .dataframe tbody tr th {\n",
       "        vertical-align: top;\n",
       "    }\n",
       "</style>\n",
       "<table border=\"1\" class=\"dataframe\">\n",
       "  <thead>\n",
       "    <tr style=\"text-align: right;\">\n",
       "      <th></th>\n",
       "      <th>first_active_month</th>\n",
       "      <th>card_id</th>\n",
       "      <th>feature_1</th>\n",
       "      <th>feature_2</th>\n",
       "      <th>feature_3</th>\n",
       "      <th>target</th>\n",
       "    </tr>\n",
       "  </thead>\n",
       "  <tbody>\n",
       "    <tr>\n",
       "      <th>201912</th>\n",
       "      <td>2017-09</td>\n",
       "      <td>C_ID_963962de2c</td>\n",
       "      <td>3</td>\n",
       "      <td>2</td>\n",
       "      <td>1</td>\n",
       "      <td>-2.740821</td>\n",
       "    </tr>\n",
       "    <tr>\n",
       "      <th>201913</th>\n",
       "      <td>2015-10</td>\n",
       "      <td>C_ID_1314773c0b</td>\n",
       "      <td>3</td>\n",
       "      <td>1</td>\n",
       "      <td>1</td>\n",
       "      <td>0.312917</td>\n",
       "    </tr>\n",
       "    <tr>\n",
       "      <th>201914</th>\n",
       "      <td>2017-08</td>\n",
       "      <td>C_ID_7666735b3d</td>\n",
       "      <td>4</td>\n",
       "      <td>3</td>\n",
       "      <td>0</td>\n",
       "      <td>0.093494</td>\n",
       "    </tr>\n",
       "    <tr>\n",
       "      <th>201915</th>\n",
       "      <td>2016-07</td>\n",
       "      <td>C_ID_73f5a0efd0</td>\n",
       "      <td>3</td>\n",
       "      <td>2</td>\n",
       "      <td>1</td>\n",
       "      <td>-4.676589</td>\n",
       "    </tr>\n",
       "    <tr>\n",
       "      <th>201916</th>\n",
       "      <td>2017-07</td>\n",
       "      <td>C_ID_92c9984c58</td>\n",
       "      <td>3</td>\n",
       "      <td>1</td>\n",
       "      <td>1</td>\n",
       "      <td>-1.859413</td>\n",
       "    </tr>\n",
       "  </tbody>\n",
       "</table>\n",
       "</div>"
      ],
      "text/plain": [
       "       first_active_month          card_id  feature_1  feature_2  feature_3  \\\n",
       "201912            2017-09  C_ID_963962de2c          3          2          1   \n",
       "201913            2015-10  C_ID_1314773c0b          3          1          1   \n",
       "201914            2017-08  C_ID_7666735b3d          4          3          0   \n",
       "201915            2016-07  C_ID_73f5a0efd0          3          2          1   \n",
       "201916            2017-07  C_ID_92c9984c58          3          1          1   \n",
       "\n",
       "          target  \n",
       "201912 -2.740821  \n",
       "201913  0.312917  \n",
       "201914  0.093494  \n",
       "201915 -4.676589  \n",
       "201916 -1.859413  "
      ]
     },
     "execution_count": 4,
     "metadata": {},
     "output_type": "execute_result"
    }
   ],
   "source": [
    "train = pd.read_csv('C:\\\\Kaggle competetion datasets\\\\Elo Merchent Category Recommendation\\\\train.csv')\n",
    "train.tail()"
   ]
  },
  {
   "cell_type": "code",
   "execution_count": 5,
   "metadata": {},
   "outputs": [
    {
     "data": {
      "text/plain": [
       "201917"
      ]
     },
     "execution_count": 5,
     "metadata": {},
     "output_type": "execute_result"
    }
   ],
   "source": [
    "len(train['card_id'].unique())"
   ]
  },
  {
   "cell_type": "code",
   "execution_count": 6,
   "metadata": {
    "scrolled": true
   },
   "outputs": [
    {
     "data": {
      "image/png": "[encoded data removed]",
      "text/plain": [
       "<matplotlib.figure.Figure at 0x21da0d51470>"
      ]
     },
     "metadata": {},
     "output_type": "display_data"
    }
   ],
   "source": [
    "cnt_srs = train['first_active_month'].value_counts()\n",
    "cnt_srs = cnt_srs.sort_index()\n",
    "plt.figure(figsize=(14,6))\n",
    "sns.barplot(cnt_srs.index, cnt_srs.values, alpha=0.8, color='green')\n",
    "plt.xticks(rotation='vertical')\n",
    "plt.xlabel('First active month', fontsize=12)\n",
    "plt.ylabel('Number of cards', fontsize=12)\n",
    "plt.title(\"First active month count in train set\")\n",
    "plt.show()\n",
    "\n"
   ]
  },
  {
   "cell_type": "markdown",
   "metadata": {},
   "source": [
    "## EDA "
   ]
  },
  {
   "cell_type": "markdown",
   "metadata": {},
   "source": [
    "### Target Variable"
   ]
  },
  {
   "cell_type": "code",
   "execution_count": 7,
   "metadata": {
    "scrolled": true
   },
   "outputs": [
    {
     "data": {
      "image/png": "[encoded data removed]",
      "text/plain": [
       "<matplotlib.figure.Figure at 0x21da14f3d68>"
      ]
     },
     "metadata": {},
     "output_type": "display_data"
    }
   ],
   "source": [
    "target_col = \"target\"            # Loyalty Points\n",
    "\n",
    "plt.figure(figsize=(8,6))\n",
    "plt.scatter(range(train.shape[0]), np.sort(train[target_col].values))\n",
    "plt.xlabel('index', fontsize = 12)\n",
    "plt.ylabel('Loyalty score', fontsize = 12)\n",
    "plt.title('Teget Column exploration')\n",
    "plt.show()\n"
   ]
  },
  {
   "cell_type": "code",
   "execution_count": 8,
   "metadata": {},
   "outputs": [
    {
     "data": {
      "image/png": "[encoded data removed]",
      "text/plain": [
       "<matplotlib.figure.Figure at 0x21da14aada0>"
      ]
     },
     "metadata": {},
     "output_type": "display_data"
    }
   ],
   "source": [
    "plt.figure(figsize=(8,6))\n",
    "sns.distplot(train[target_col].values, bins=50, kde=False, color=\"red\")\n",
    "plt.title(\"Histogram of Loyalty score\")\n",
    "plt.xlabel('Loyalty score', fontsize=12)\n",
    "plt.ylabel('Frequency')\n",
    "plt.show()"
   ]
  },
  {
   "cell_type": "code",
   "execution_count": 9,
   "metadata": {},
   "outputs": [
    {
     "data": {
      "text/plain": [
       "2207"
      ]
     },
     "execution_count": 9,
     "metadata": {},
     "output_type": "execute_result"
    }
   ],
   "source": [
    "(train['target']< -30).sum()     # 1% of data lessthan -30"
   ]
  },
  {
   "cell_type": "markdown",
   "metadata": {},
   "source": [
    "### Features"
   ]
  },
  {
   "cell_type": "code",
   "execution_count": 10,
   "metadata": {},
   "outputs": [
    {
     "name": "stdout",
     "output_type": "stream",
     "text": [
      "[5 4 2 1 3]\n",
      "[2 1 3]\n",
      "[1 0]\n"
     ]
    }
   ],
   "source": [
    "print(train['feature_1'].unique())\n",
    "print(train['feature_2'].unique())\n",
    "print(train['feature_3'].unique())"
   ]
  },
  {
   "cell_type": "code",
   "execution_count": 11,
   "metadata": {},
   "outputs": [
    {
     "data": {
      "image/png": "[encoded data removed]",
      "text/plain": [
       "<matplotlib.figure.Figure at 0x21da1600dd8>"
      ]
     },
     "metadata": {},
     "output_type": "display_data"
    }
   ],
   "source": [
    "f, axes = plt.subplots(figsize=(14,6), nrows=1, ncols=3)\n",
    "sns.distplot(train.feature_1, ax = axes[0], kde = False, color = 'green', bins=10).set_title('Feature 1')\n",
    "\n",
    "sns.distplot(train.feature_2, ax = axes[1], kde = False, color = 'red', bins=10).set_title(\"Feature 2\") \n",
    "axes[0].set(ylabel='Card Counts')\n",
    "\n",
    "sns.distplot(train.feature_3, ax = axes[2], kde = False, color = 'blue', bins=10).set_title(\"Feature 3\") \n",
    "\n",
    "f.suptitle('fetures vs card counts: Training Data')\n",
    "axes[0].set_xticks(np.arange(1,6,1))\n",
    "axes[1].set_xticks(np.arange(1,4,1))\n",
    "axes[2].set_xticks(np.arange(0,2,1))\n",
    "plt.show()"
   ]
  },
  {
   "cell_type": "code",
   "execution_count": 12,
   "metadata": {
    "scrolled": true
   },
   "outputs": [
    {
     "name": "stderr",
     "output_type": "stream",
     "text": [
      "C:\\Users\\HP\\Anaconda3\\lib\\site-packages\\scipy\\stats\\stats.py:1713: FutureWarning: Using a non-tuple sequence for multidimensional indexing is deprecated; use `arr[tuple(seq)]` instead of `arr[seq]`. In the future this will be interpreted as an array index, `arr[np.array(seq)]`, which will result either in an error or a different result.\n",
      "  return np.add.reduce(sorted[indexer] * weights, axis=axis) / sumval\n"
     ]
    },
    {
     "data": {
      "image/png": "[encoded data removed]",
      "text/plain": [
       "<matplotlib.figure.Figure at 0x21da246d668>"
      ]
     },
     "metadata": {},
     "output_type": "display_data"
    }
   ],
   "source": [
    "fig, ax = plt.subplots(figsize=(20,6), nrows=1, ncols=3)\n",
    "sns.set_style(\"whitegrid\")\n",
    "sns.violinplot(x=\"feature_1\", y = target_col, data = train, ax = ax[0]).set_title('Feature 1 Distribution')\n",
    "ax[0].set(ylabel = 'Loyalty Score')\n",
    "\n",
    "sns.violinplot(x=\"feature_2\", y = target_col, data = train, ax = ax[1]).set_title('Feature 2 Distribution')\n",
    "ax[1].set(ylabel = 'Loyalty Score')\n",
    "\n",
    "sns.violinplot(x=\"feature_3\", y = target_col, data = train, ax = ax[2]).set_title('Feature 3 Distribution')\n",
    "ax[2].set(ylabel = 'Loyalty Score')\n",
    "\n",
    "plt.xticks(rotation = 'vertical')\n",
    "fig.suptitle('Features vs Loyalty Score')\n",
    "plt.show()"
   ]
  },
  {
   "cell_type": "code",
   "execution_count": null,
   "metadata": {
    "collapsed": true
   },
   "outputs": [],
   "source": []
  },
  {
   "cell_type": "markdown",
   "metadata": {},
   "source": [
    "# Historical Transactions Dataset"
   ]
  },
  {
   "cell_type": "code",
   "execution_count": 13,
   "metadata": {},
   "outputs": [
    {
     "data": {
      "text/html": [
       "<div>\n",
       "<style>\n",
       "    .dataframe thead tr:only-child th {\n",
       "        text-align: right;\n",
       "    }\n",
       "\n",
       "    .dataframe thead th {\n",
       "        text-align: left;\n",
       "    }\n",
       "\n",
       "    .dataframe tbody tr th {\n",
       "        vertical-align: top;\n",
       "    }\n",
       "</style>\n",
       "<table border=\"1\" class=\"dataframe\">\n",
       "  <thead>\n",
       "    <tr style=\"text-align: right;\">\n",
       "      <th></th>\n",
       "      <th>authorized_flag</th>\n",
       "      <th>card_id</th>\n",
       "      <th>city_id</th>\n",
       "      <th>category_1</th>\n",
       "      <th>installments</th>\n",
       "      <th>category_3</th>\n",
       "      <th>merchant_category_id</th>\n",
       "      <th>merchant_id</th>\n",
       "      <th>month_lag</th>\n",
       "      <th>purchase_amount</th>\n",
       "      <th>purchase_date</th>\n",
       "      <th>category_2</th>\n",
       "      <th>state_id</th>\n",
       "      <th>subsector_id</th>\n",
       "    </tr>\n",
       "  </thead>\n",
       "  <tbody>\n",
       "    <tr>\n",
       "      <th>499980</th>\n",
       "      <td>Y</td>\n",
       "      <td>C_ID_9de1e4b340</td>\n",
       "      <td>161</td>\n",
       "      <td>N</td>\n",
       "      <td>0</td>\n",
       "      <td>A</td>\n",
       "      <td>705</td>\n",
       "      <td>M_ID_e78094bb40</td>\n",
       "      <td>-3</td>\n",
       "      <td>-0.695532</td>\n",
       "      <td>2017-11-22 23:58:35</td>\n",
       "      <td>3.0</td>\n",
       "      <td>3</td>\n",
       "      <td>33</td>\n",
       "    </tr>\n",
       "    <tr>\n",
       "      <th>499981</th>\n",
       "      <td>Y</td>\n",
       "      <td>C_ID_9de1e4b340</td>\n",
       "      <td>161</td>\n",
       "      <td>N</td>\n",
       "      <td>0</td>\n",
       "      <td>A</td>\n",
       "      <td>367</td>\n",
       "      <td>M_ID_77e71ee8f0</td>\n",
       "      <td>-7</td>\n",
       "      <td>-0.631955</td>\n",
       "      <td>2017-07-22 10:25:15</td>\n",
       "      <td>3.0</td>\n",
       "      <td>3</td>\n",
       "      <td>16</td>\n",
       "    </tr>\n",
       "    <tr>\n",
       "      <th>499982</th>\n",
       "      <td>N</td>\n",
       "      <td>C_ID_9de1e4b340</td>\n",
       "      <td>161</td>\n",
       "      <td>N</td>\n",
       "      <td>0</td>\n",
       "      <td>A</td>\n",
       "      <td>367</td>\n",
       "      <td>M_ID_77e71ee8f0</td>\n",
       "      <td>0</td>\n",
       "      <td>-0.726697</td>\n",
       "      <td>2018-02-08 13:11:53</td>\n",
       "      <td>3.0</td>\n",
       "      <td>3</td>\n",
       "      <td>16</td>\n",
       "    </tr>\n",
       "    <tr>\n",
       "      <th>499983</th>\n",
       "      <td>Y</td>\n",
       "      <td>C_ID_9de1e4b340</td>\n",
       "      <td>161</td>\n",
       "      <td>N</td>\n",
       "      <td>0</td>\n",
       "      <td>A</td>\n",
       "      <td>705</td>\n",
       "      <td>M_ID_e78094bb40</td>\n",
       "      <td>-8</td>\n",
       "      <td>-0.725360</td>\n",
       "      <td>2017-06-09 12:02:01</td>\n",
       "      <td>3.0</td>\n",
       "      <td>3</td>\n",
       "      <td>33</td>\n",
       "    </tr>\n",
       "    <tr>\n",
       "      <th>499984</th>\n",
       "      <td>Y</td>\n",
       "      <td>C_ID_9de1e4b340</td>\n",
       "      <td>161</td>\n",
       "      <td>N</td>\n",
       "      <td>0</td>\n",
       "      <td>A</td>\n",
       "      <td>506</td>\n",
       "      <td>M_ID_c9e7e211c1</td>\n",
       "      <td>-8</td>\n",
       "      <td>-0.624893</td>\n",
       "      <td>2017-06-08 11:04:25</td>\n",
       "      <td>3.0</td>\n",
       "      <td>3</td>\n",
       "      <td>30</td>\n",
       "    </tr>\n",
       "    <tr>\n",
       "      <th>499985</th>\n",
       "      <td>Y</td>\n",
       "      <td>C_ID_9de1e4b340</td>\n",
       "      <td>161</td>\n",
       "      <td>N</td>\n",
       "      <td>0</td>\n",
       "      <td>A</td>\n",
       "      <td>437</td>\n",
       "      <td>M_ID_df7219fd1e</td>\n",
       "      <td>-1</td>\n",
       "      <td>-0.607447</td>\n",
       "      <td>2018-01-16 15:01:34</td>\n",
       "      <td>3.0</td>\n",
       "      <td>3</td>\n",
       "      <td>15</td>\n",
       "    </tr>\n",
       "    <tr>\n",
       "      <th>499986</th>\n",
       "      <td>Y</td>\n",
       "      <td>C_ID_9de1e4b340</td>\n",
       "      <td>161</td>\n",
       "      <td>N</td>\n",
       "      <td>0</td>\n",
       "      <td>A</td>\n",
       "      <td>705</td>\n",
       "      <td>M_ID_e78094bb40</td>\n",
       "      <td>-2</td>\n",
       "      <td>-0.715773</td>\n",
       "      <td>2017-12-28 11:33:05</td>\n",
       "      <td>3.0</td>\n",
       "      <td>3</td>\n",
       "      <td>33</td>\n",
       "    </tr>\n",
       "    <tr>\n",
       "      <th>499987</th>\n",
       "      <td>Y</td>\n",
       "      <td>C_ID_9de1e4b340</td>\n",
       "      <td>161</td>\n",
       "      <td>N</td>\n",
       "      <td>0</td>\n",
       "      <td>A</td>\n",
       "      <td>705</td>\n",
       "      <td>M_ID_e78094bb40</td>\n",
       "      <td>-3</td>\n",
       "      <td>-0.732512</td>\n",
       "      <td>2017-11-01 18:20:53</td>\n",
       "      <td>3.0</td>\n",
       "      <td>3</td>\n",
       "      <td>33</td>\n",
       "    </tr>\n",
       "    <tr>\n",
       "      <th>499988</th>\n",
       "      <td>Y</td>\n",
       "      <td>C_ID_9de1e4b340</td>\n",
       "      <td>161</td>\n",
       "      <td>N</td>\n",
       "      <td>0</td>\n",
       "      <td>A</td>\n",
       "      <td>544</td>\n",
       "      <td>M_ID_b9ee3295e0</td>\n",
       "      <td>-5</td>\n",
       "      <td>-0.694315</td>\n",
       "      <td>2017-09-01 14:37:15</td>\n",
       "      <td>3.0</td>\n",
       "      <td>3</td>\n",
       "      <td>29</td>\n",
       "    </tr>\n",
       "    <tr>\n",
       "      <th>499989</th>\n",
       "      <td>Y</td>\n",
       "      <td>C_ID_9de1e4b340</td>\n",
       "      <td>161</td>\n",
       "      <td>N</td>\n",
       "      <td>0</td>\n",
       "      <td>A</td>\n",
       "      <td>367</td>\n",
       "      <td>M_ID_91ae6bb3d2</td>\n",
       "      <td>-5</td>\n",
       "      <td>-0.686802</td>\n",
       "      <td>2017-09-29 13:07:03</td>\n",
       "      <td>3.0</td>\n",
       "      <td>3</td>\n",
       "      <td>16</td>\n",
       "    </tr>\n",
       "    <tr>\n",
       "      <th>499990</th>\n",
       "      <td>Y</td>\n",
       "      <td>C_ID_9de1e4b340</td>\n",
       "      <td>161</td>\n",
       "      <td>N</td>\n",
       "      <td>0</td>\n",
       "      <td>A</td>\n",
       "      <td>518</td>\n",
       "      <td>M_ID_ece92f1ae2</td>\n",
       "      <td>0</td>\n",
       "      <td>-0.731355</td>\n",
       "      <td>2018-02-06 09:58:52</td>\n",
       "      <td>3.0</td>\n",
       "      <td>3</td>\n",
       "      <td>27</td>\n",
       "    </tr>\n",
       "    <tr>\n",
       "      <th>499991</th>\n",
       "      <td>Y</td>\n",
       "      <td>C_ID_9de1e4b340</td>\n",
       "      <td>97</td>\n",
       "      <td>N</td>\n",
       "      <td>0</td>\n",
       "      <td>A</td>\n",
       "      <td>309</td>\n",
       "      <td>M_ID_295fdf87b2</td>\n",
       "      <td>-4</td>\n",
       "      <td>-0.685855</td>\n",
       "      <td>2017-10-19 22:58:57</td>\n",
       "      <td>3.0</td>\n",
       "      <td>3</td>\n",
       "      <td>21</td>\n",
       "    </tr>\n",
       "    <tr>\n",
       "      <th>499992</th>\n",
       "      <td>Y</td>\n",
       "      <td>C_ID_9de1e4b340</td>\n",
       "      <td>161</td>\n",
       "      <td>N</td>\n",
       "      <td>0</td>\n",
       "      <td>A</td>\n",
       "      <td>769</td>\n",
       "      <td>M_ID_4c2264f29f</td>\n",
       "      <td>-7</td>\n",
       "      <td>-0.687553</td>\n",
       "      <td>2017-07-20 15:16:27</td>\n",
       "      <td>3.0</td>\n",
       "      <td>3</td>\n",
       "      <td>32</td>\n",
       "    </tr>\n",
       "    <tr>\n",
       "      <th>499993</th>\n",
       "      <td>Y</td>\n",
       "      <td>C_ID_9de1e4b340</td>\n",
       "      <td>333</td>\n",
       "      <td>N</td>\n",
       "      <td>0</td>\n",
       "      <td>A</td>\n",
       "      <td>705</td>\n",
       "      <td>M_ID_33264c8861</td>\n",
       "      <td>-5</td>\n",
       "      <td>-0.732648</td>\n",
       "      <td>2017-09-10 10:58:12</td>\n",
       "      <td>1.0</td>\n",
       "      <td>9</td>\n",
       "      <td>33</td>\n",
       "    </tr>\n",
       "    <tr>\n",
       "      <th>499994</th>\n",
       "      <td>Y</td>\n",
       "      <td>C_ID_9de1e4b340</td>\n",
       "      <td>161</td>\n",
       "      <td>N</td>\n",
       "      <td>0</td>\n",
       "      <td>A</td>\n",
       "      <td>367</td>\n",
       "      <td>M_ID_113378fe3b</td>\n",
       "      <td>-5</td>\n",
       "      <td>-0.697320</td>\n",
       "      <td>2017-09-19 13:49:46</td>\n",
       "      <td>3.0</td>\n",
       "      <td>3</td>\n",
       "      <td>16</td>\n",
       "    </tr>\n",
       "    <tr>\n",
       "      <th>499995</th>\n",
       "      <td>Y</td>\n",
       "      <td>C_ID_9de1e4b340</td>\n",
       "      <td>161</td>\n",
       "      <td>N</td>\n",
       "      <td>0</td>\n",
       "      <td>A</td>\n",
       "      <td>518</td>\n",
       "      <td>M_ID_dd9a38c4f5</td>\n",
       "      <td>-8</td>\n",
       "      <td>-0.631504</td>\n",
       "      <td>2017-06-27 10:20:31</td>\n",
       "      <td>3.0</td>\n",
       "      <td>3</td>\n",
       "      <td>27</td>\n",
       "    </tr>\n",
       "    <tr>\n",
       "      <th>499996</th>\n",
       "      <td>Y</td>\n",
       "      <td>C_ID_9de1e4b340</td>\n",
       "      <td>91</td>\n",
       "      <td>N</td>\n",
       "      <td>0</td>\n",
       "      <td>A</td>\n",
       "      <td>63</td>\n",
       "      <td>M_ID_b208f90915</td>\n",
       "      <td>-5</td>\n",
       "      <td>-0.646230</td>\n",
       "      <td>2017-09-10 22:26:34</td>\n",
       "      <td>1.0</td>\n",
       "      <td>12</td>\n",
       "      <td>27</td>\n",
       "    </tr>\n",
       "    <tr>\n",
       "      <th>499997</th>\n",
       "      <td>Y</td>\n",
       "      <td>C_ID_9de1e4b340</td>\n",
       "      <td>161</td>\n",
       "      <td>N</td>\n",
       "      <td>0</td>\n",
       "      <td>A</td>\n",
       "      <td>437</td>\n",
       "      <td>M_ID_c2072d56bc</td>\n",
       "      <td>-11</td>\n",
       "      <td>-0.687793</td>\n",
       "      <td>2017-03-17 13:00:55</td>\n",
       "      <td>3.0</td>\n",
       "      <td>3</td>\n",
       "      <td>15</td>\n",
       "    </tr>\n",
       "    <tr>\n",
       "      <th>499998</th>\n",
       "      <td>Y</td>\n",
       "      <td>C_ID_9de1e4b340</td>\n",
       "      <td>161</td>\n",
       "      <td>N</td>\n",
       "      <td>0</td>\n",
       "      <td>A</td>\n",
       "      <td>278</td>\n",
       "      <td>M_ID_cb3ef14f78</td>\n",
       "      <td>-9</td>\n",
       "      <td>-0.730424</td>\n",
       "      <td>2017-05-15 18:25:22</td>\n",
       "      <td>3.0</td>\n",
       "      <td>3</td>\n",
       "      <td>37</td>\n",
       "    </tr>\n",
       "    <tr>\n",
       "      <th>499999</th>\n",
       "      <td>Y</td>\n",
       "      <td>C_ID_9de1e4b340</td>\n",
       "      <td>161</td>\n",
       "      <td>N</td>\n",
       "      <td>0</td>\n",
       "      <td>A</td>\n",
       "      <td>506</td>\n",
       "      <td>M_ID_3093814f9d</td>\n",
       "      <td>0</td>\n",
       "      <td>-0.670588</td>\n",
       "      <td>2018-02-20 11:17:52</td>\n",
       "      <td>3.0</td>\n",
       "      <td>3</td>\n",
       "      <td>30</td>\n",
       "    </tr>\n",
       "  </tbody>\n",
       "</table>\n",
       "</div>"
      ],
      "text/plain": [
       "       authorized_flag          card_id  city_id category_1  installments  \\\n",
       "499980               Y  C_ID_9de1e4b340      161          N             0   \n",
       "499981               Y  C_ID_9de1e4b340      161          N             0   \n",
       "499982               N  C_ID_9de1e4b340      161          N             0   \n",
       "499983               Y  C_ID_9de1e4b340      161          N             0   \n",
       "499984               Y  C_ID_9de1e4b340      161          N             0   \n",
       "499985               Y  C_ID_9de1e4b340      161          N             0   \n",
       "499986               Y  C_ID_9de1e4b340      161          N             0   \n",
       "499987               Y  C_ID_9de1e4b340      161          N             0   \n",
       "499988               Y  C_ID_9de1e4b340      161          N             0   \n",
       "499989               Y  C_ID_9de1e4b340      161          N             0   \n",
       "499990               Y  C_ID_9de1e4b340      161          N             0   \n",
       "499991               Y  C_ID_9de1e4b340       97          N             0   \n",
       "499992               Y  C_ID_9de1e4b340      161          N             0   \n",
       "499993               Y  C_ID_9de1e4b340      333          N             0   \n",
       "499994               Y  C_ID_9de1e4b340      161          N             0   \n",
       "499995               Y  C_ID_9de1e4b340      161          N             0   \n",
       "499996               Y  C_ID_9de1e4b340       91          N             0   \n",
       "499997               Y  C_ID_9de1e4b340      161          N             0   \n",
       "499998               Y  C_ID_9de1e4b340      161          N             0   \n",
       "499999               Y  C_ID_9de1e4b340      161          N             0   \n",
       "\n",
       "       category_3  merchant_category_id      merchant_id  month_lag  \\\n",
       "499980          A                   705  M_ID_e78094bb40         -3   \n",
       "499981          A                   367  M_ID_77e71ee8f0         -7   \n",
       "499982          A                   367  M_ID_77e71ee8f0          0   \n",
       "499983          A                   705  M_ID_e78094bb40         -8   \n",
       "499984          A                   506  M_ID_c9e7e211c1         -8   \n",
       "499985          A                   437  M_ID_df7219fd1e         -1   \n",
       "499986          A                   705  M_ID_e78094bb40         -2   \n",
       "499987          A                   705  M_ID_e78094bb40         -3   \n",
       "499988          A                   544  M_ID_b9ee3295e0         -5   \n",
       "499989          A                   367  M_ID_91ae6bb3d2         -5   \n",
       "499990          A                   518  M_ID_ece92f1ae2          0   \n",
       "499991          A                   309  M_ID_295fdf87b2         -4   \n",
       "499992          A                   769  M_ID_4c2264f29f         -7   \n",
       "499993          A                   705  M_ID_33264c8861         -5   \n",
       "499994          A                   367  M_ID_113378fe3b         -5   \n",
       "499995          A                   518  M_ID_dd9a38c4f5         -8   \n",
       "499996          A                    63  M_ID_b208f90915         -5   \n",
       "499997          A                   437  M_ID_c2072d56bc        -11   \n",
       "499998          A                   278  M_ID_cb3ef14f78         -9   \n",
       "499999          A                   506  M_ID_3093814f9d          0   \n",
       "\n",
       "        purchase_amount        purchase_date  category_2  state_id  \\\n",
       "499980        -0.695532  2017-11-22 23:58:35         3.0         3   \n",
       "499981        -0.631955  2017-07-22 10:25:15         3.0         3   \n",
       "499982        -0.726697  2018-02-08 13:11:53         3.0         3   \n",
       "499983        -0.725360  2017-06-09 12:02:01         3.0         3   \n",
       "499984        -0.624893  2017-06-08 11:04:25         3.0         3   \n",
       "499985        -0.607447  2018-01-16 15:01:34         3.0         3   \n",
       "499986        -0.715773  2017-12-28 11:33:05         3.0         3   \n",
       "499987        -0.732512  2017-11-01 18:20:53         3.0         3   \n",
       "499988        -0.694315  2017-09-01 14:37:15         3.0         3   \n",
       "499989        -0.686802  2017-09-29 13:07:03         3.0         3   \n",
       "499990        -0.731355  2018-02-06 09:58:52         3.0         3   \n",
       "499991        -0.685855  2017-10-19 22:58:57         3.0         3   \n",
       "499992        -0.687553  2017-07-20 15:16:27         3.0         3   \n",
       "499993        -0.732648  2017-09-10 10:58:12         1.0         9   \n",
       "499994        -0.697320  2017-09-19 13:49:46         3.0         3   \n",
       "499995        -0.631504  2017-06-27 10:20:31         3.0         3   \n",
       "499996        -0.646230  2017-09-10 22:26:34         1.0        12   \n",
       "499997        -0.687793  2017-03-17 13:00:55         3.0         3   \n",
       "499998        -0.730424  2017-05-15 18:25:22         3.0         3   \n",
       "499999        -0.670588  2018-02-20 11:17:52         3.0         3   \n",
       "\n",
       "        subsector_id  \n",
       "499980            33  \n",
       "499981            16  \n",
       "499982            16  \n",
       "499983            33  \n",
       "499984            30  \n",
       "499985            15  \n",
       "499986            33  \n",
       "499987            33  \n",
       "499988            29  \n",
       "499989            16  \n",
       "499990            27  \n",
       "499991            21  \n",
       "499992            32  \n",
       "499993            33  \n",
       "499994            16  \n",
       "499995            27  \n",
       "499996            27  \n",
       "499997            15  \n",
       "499998            37  \n",
       "499999            30  "
      ]
     },
     "execution_count": 13,
     "metadata": {},
     "output_type": "execute_result"
    }
   ],
   "source": [
    "hist_trans = pd.read_csv('C:\\\\Kaggle competetion datasets\\\\Elo Merchent Category Recommendation\\\\historical_transactions.csv', \n",
    "                        nrows = 500000)\n",
    "hist_trans.tail(20)"
   ]
  },
  {
   "cell_type": "markdown",
   "metadata": {},
   "source": [
    "## Feature Extraction"
   ]
  },
  {
   "cell_type": "markdown",
   "metadata": {},
   "source": [
    "### card_id vs no of purchases"
   ]
  },
  {
   "cell_type": "code",
   "execution_count": 186,
   "metadata": {
    "scrolled": true
   },
   "outputs": [
    {
     "name": "stdout",
     "output_type": "stream",
     "text": [
      "2400\n"
     ]
    },
    {
     "data": {
      "text/html": [
       "<div>\n",
       "<style>\n",
       "    .dataframe thead tr:only-child th {\n",
       "        text-align: right;\n",
       "    }\n",
       "\n",
       "    .dataframe thead th {\n",
       "        text-align: left;\n",
       "    }\n",
       "\n",
       "    .dataframe tbody tr th {\n",
       "        vertical-align: top;\n",
       "    }\n",
       "</style>\n",
       "<table border=\"1\" class=\"dataframe\">\n",
       "  <thead>\n",
       "    <tr style=\"text-align: right;\">\n",
       "      <th></th>\n",
       "      <th>card_id</th>\n",
       "      <th>cnt_of_hist_trans</th>\n",
       "    </tr>\n",
       "  </thead>\n",
       "  <tbody>\n",
       "    <tr>\n",
       "      <th>2395</th>\n",
       "      <td>C_ID_ff81e7167b</td>\n",
       "      <td>714</td>\n",
       "    </tr>\n",
       "    <tr>\n",
       "      <th>2396</th>\n",
       "      <td>C_ID_ff8c27534c</td>\n",
       "      <td>142</td>\n",
       "    </tr>\n",
       "    <tr>\n",
       "      <th>2397</th>\n",
       "      <td>C_ID_ffaced5b31</td>\n",
       "      <td>109</td>\n",
       "    </tr>\n",
       "    <tr>\n",
       "      <th>2398</th>\n",
       "      <td>C_ID_ffb9c6be8e</td>\n",
       "      <td>62</td>\n",
       "    </tr>\n",
       "    <tr>\n",
       "      <th>2399</th>\n",
       "      <td>C_ID_ffbe6ed0b4</td>\n",
       "      <td>104</td>\n",
       "    </tr>\n",
       "  </tbody>\n",
       "</table>\n",
       "</div>"
      ],
      "text/plain": [
       "              card_id  cnt_of_hist_trans\n",
       "2395  C_ID_ff81e7167b                714\n",
       "2396  C_ID_ff8c27534c                142\n",
       "2397  C_ID_ffaced5b31                109\n",
       "2398  C_ID_ffb9c6be8e                 62\n",
       "2399  C_ID_ffbe6ed0b4                104"
      ]
     },
     "execution_count": 186,
     "metadata": {},
     "output_type": "execute_result"
    }
   ],
   "source": [
    "each_card_trans = hist_trans.groupby('card_id')\n",
    "each_card_trans = each_card_trans['purchase_amount'].size().reset_index() \n",
    "each_card_trans.columns = ['card_id', 'cnt_of_hist_trans']\n",
    "print(len(each_card_trans['card_id'].unique()))\n",
    "each_card_trans.tail()"
   ]
  },
  {
   "cell_type": "code",
   "execution_count": 187,
   "metadata": {},
   "outputs": [
    {
     "data": {
      "text/plain": [
       "array(['N', 'Y'], dtype=object)"
      ]
     },
     "execution_count": 187,
     "metadata": {},
     "output_type": "execute_result"
    }
   ],
   "source": [
    "hist_trans.category_1.unique()"
   ]
  },
  {
   "cell_type": "code",
   "execution_count": 201,
   "metadata": {},
   "outputs": [
    {
     "data": {
      "text/plain": [
       "card_id          category_1\n",
       "C_ID_002198cdf1  N              95\n",
       "C_ID_0032aebb26  N             344\n",
       "                 Y               9\n",
       "C_ID_003839dd44  N             192\n",
       "                 Y              37\n",
       "C_ID_0046db9f8a  N             147\n",
       "                 Y               3\n",
       "C_ID_00727b1b66  N              12\n",
       "                 Y               1\n",
       "C_ID_007eaf8be8  N             433\n",
       "Name: category_1, dtype: int64"
      ]
     },
     "execution_count": 201,
     "metadata": {},
     "output_type": "execute_result"
    }
   ],
   "source": [
    "ect = hist_trans.groupby('card_id')\n",
    "ect = ect['category_1'].value_counts()\n",
    "ect.columns = ['card_id', 'cat_1_count']\n",
    "ect.head(10)"
   ]
  },
  {
   "cell_type": "code",
   "execution_count": 197,
   "metadata": {},
   "outputs": [
    {
     "data": {
      "text/html": [
       "<div>\n",
       "<style>\n",
       "    .dataframe thead tr:only-child th {\n",
       "        text-align: right;\n",
       "    }\n",
       "\n",
       "    .dataframe thead th {\n",
       "        text-align: left;\n",
       "    }\n",
       "\n",
       "    .dataframe tbody tr th {\n",
       "        vertical-align: top;\n",
       "    }\n",
       "</style>\n",
       "<table border=\"1\" class=\"dataframe\">\n",
       "  <thead>\n",
       "    <tr style=\"text-align: right;\">\n",
       "      <th></th>\n",
       "      <th>authorized_flag</th>\n",
       "      <th>city_id</th>\n",
       "      <th>category_1</th>\n",
       "      <th>installments</th>\n",
       "      <th>category_3</th>\n",
       "      <th>merchant_category_id</th>\n",
       "      <th>merchant_id</th>\n",
       "      <th>month_lag</th>\n",
       "      <th>purchase_amount</th>\n",
       "      <th>purchase_date</th>\n",
       "      <th>category_2</th>\n",
       "      <th>state_id</th>\n",
       "      <th>subsector_id</th>\n",
       "    </tr>\n",
       "    <tr>\n",
       "      <th>card_id</th>\n",
       "      <th></th>\n",
       "      <th></th>\n",
       "      <th></th>\n",
       "      <th></th>\n",
       "      <th></th>\n",
       "      <th></th>\n",
       "      <th></th>\n",
       "      <th></th>\n",
       "      <th></th>\n",
       "      <th></th>\n",
       "      <th></th>\n",
       "      <th></th>\n",
       "      <th></th>\n",
       "    </tr>\n",
       "  </thead>\n",
       "  <tbody>\n",
       "    <tr>\n",
       "      <th>C_ID_002198cdf1</th>\n",
       "      <td>95</td>\n",
       "      <td>95</td>\n",
       "      <td>95</td>\n",
       "      <td>95</td>\n",
       "      <td>95</td>\n",
       "      <td>95</td>\n",
       "      <td>94</td>\n",
       "      <td>95</td>\n",
       "      <td>95</td>\n",
       "      <td>95</td>\n",
       "      <td>95</td>\n",
       "      <td>95</td>\n",
       "      <td>95</td>\n",
       "    </tr>\n",
       "    <tr>\n",
       "      <th>C_ID_0032aebb26</th>\n",
       "      <td>353</td>\n",
       "      <td>353</td>\n",
       "      <td>353</td>\n",
       "      <td>353</td>\n",
       "      <td>353</td>\n",
       "      <td>353</td>\n",
       "      <td>351</td>\n",
       "      <td>353</td>\n",
       "      <td>353</td>\n",
       "      <td>353</td>\n",
       "      <td>344</td>\n",
       "      <td>353</td>\n",
       "      <td>353</td>\n",
       "    </tr>\n",
       "    <tr>\n",
       "      <th>C_ID_003839dd44</th>\n",
       "      <td>229</td>\n",
       "      <td>229</td>\n",
       "      <td>229</td>\n",
       "      <td>229</td>\n",
       "      <td>229</td>\n",
       "      <td>229</td>\n",
       "      <td>229</td>\n",
       "      <td>229</td>\n",
       "      <td>229</td>\n",
       "      <td>229</td>\n",
       "      <td>192</td>\n",
       "      <td>229</td>\n",
       "      <td>229</td>\n",
       "    </tr>\n",
       "    <tr>\n",
       "      <th>C_ID_0046db9f8a</th>\n",
       "      <td>150</td>\n",
       "      <td>150</td>\n",
       "      <td>150</td>\n",
       "      <td>150</td>\n",
       "      <td>143</td>\n",
       "      <td>150</td>\n",
       "      <td>149</td>\n",
       "      <td>150</td>\n",
       "      <td>150</td>\n",
       "      <td>150</td>\n",
       "      <td>147</td>\n",
       "      <td>150</td>\n",
       "      <td>150</td>\n",
       "    </tr>\n",
       "    <tr>\n",
       "      <th>C_ID_00727b1b66</th>\n",
       "      <td>13</td>\n",
       "      <td>13</td>\n",
       "      <td>13</td>\n",
       "      <td>13</td>\n",
       "      <td>11</td>\n",
       "      <td>13</td>\n",
       "      <td>12</td>\n",
       "      <td>13</td>\n",
       "      <td>13</td>\n",
       "      <td>13</td>\n",
       "      <td>12</td>\n",
       "      <td>13</td>\n",
       "      <td>13</td>\n",
       "    </tr>\n",
       "  </tbody>\n",
       "</table>\n",
       "</div>"
      ],
      "text/plain": [
       "                 authorized_flag  city_id  category_1  installments  \\\n",
       "card_id                                                               \n",
       "C_ID_002198cdf1               95       95          95            95   \n",
       "C_ID_0032aebb26              353      353         353           353   \n",
       "C_ID_003839dd44              229      229         229           229   \n",
       "C_ID_0046db9f8a              150      150         150           150   \n",
       "C_ID_00727b1b66               13       13          13            13   \n",
       "\n",
       "                 category_3  merchant_category_id  merchant_id  month_lag  \\\n",
       "card_id                                                                     \n",
       "C_ID_002198cdf1          95                    95           94         95   \n",
       "C_ID_0032aebb26         353                   353          351        353   \n",
       "C_ID_003839dd44         229                   229          229        229   \n",
       "C_ID_0046db9f8a         143                   150          149        150   \n",
       "C_ID_00727b1b66          11                    13           12         13   \n",
       "\n",
       "                 purchase_amount  purchase_date  category_2  state_id  \\\n",
       "card_id                                                                 \n",
       "C_ID_002198cdf1               95             95          95        95   \n",
       "C_ID_0032aebb26              353            353         344       353   \n",
       "C_ID_003839dd44              229            229         192       229   \n",
       "C_ID_0046db9f8a              150            150         147       150   \n",
       "C_ID_00727b1b66               13             13          12        13   \n",
       "\n",
       "                 subsector_id  \n",
       "card_id                        \n",
       "C_ID_002198cdf1            95  \n",
       "C_ID_0032aebb26           353  \n",
       "C_ID_003839dd44           229  \n",
       "C_ID_0046db9f8a           150  \n",
       "C_ID_00727b1b66            13  "
      ]
     },
     "execution_count": 197,
     "metadata": {},
     "output_type": "execute_result"
    }
   ],
   "source": [
    "ect1 = hist_trans.groupby('card_id').count()\n",
    "ect1.head()"
   ]
  },
  {
   "cell_type": "code",
   "execution_count": 198,
   "metadata": {},
   "outputs": [
    {
     "data": {
      "text/html": [
       "<div>\n",
       "<style>\n",
       "    .dataframe thead tr:only-child th {\n",
       "        text-align: right;\n",
       "    }\n",
       "\n",
       "    .dataframe thead th {\n",
       "        text-align: left;\n",
       "    }\n",
       "\n",
       "    .dataframe tbody tr th {\n",
       "        vertical-align: top;\n",
       "    }\n",
       "</style>\n",
       "<table border=\"1\" class=\"dataframe\">\n",
       "  <thead>\n",
       "    <tr style=\"text-align: right;\">\n",
       "      <th></th>\n",
       "      <th>city_id</th>\n",
       "      <th>installments</th>\n",
       "      <th>merchant_category_id</th>\n",
       "      <th>month_lag</th>\n",
       "      <th>purchase_amount</th>\n",
       "      <th>category_2</th>\n",
       "      <th>state_id</th>\n",
       "      <th>subsector_id</th>\n",
       "    </tr>\n",
       "    <tr>\n",
       "      <th>card_id</th>\n",
       "      <th></th>\n",
       "      <th></th>\n",
       "      <th></th>\n",
       "      <th></th>\n",
       "      <th></th>\n",
       "      <th></th>\n",
       "      <th></th>\n",
       "      <th></th>\n",
       "    </tr>\n",
       "  </thead>\n",
       "  <tbody>\n",
       "    <tr>\n",
       "      <th>C_ID_002198cdf1</th>\n",
       "      <td>15572</td>\n",
       "      <td>0</td>\n",
       "      <td>37149</td>\n",
       "      <td>-216</td>\n",
       "      <td>-61.358282</td>\n",
       "      <td>95.0</td>\n",
       "      <td>855</td>\n",
       "      <td>2803</td>\n",
       "    </tr>\n",
       "    <tr>\n",
       "      <th>C_ID_0032aebb26</th>\n",
       "      <td>9752</td>\n",
       "      <td>13</td>\n",
       "      <td>189961</td>\n",
       "      <td>-1210</td>\n",
       "      <td>-252.506781</td>\n",
       "      <td>1202.0</td>\n",
       "      <td>6733</td>\n",
       "      <td>11320</td>\n",
       "    </tr>\n",
       "    <tr>\n",
       "      <th>C_ID_003839dd44</th>\n",
       "      <td>16484</td>\n",
       "      <td>238</td>\n",
       "      <td>112313</td>\n",
       "      <td>-1189</td>\n",
       "      <td>-150.256313</td>\n",
       "      <td>540.0</td>\n",
       "      <td>2023</td>\n",
       "      <td>5763</td>\n",
       "    </tr>\n",
       "    <tr>\n",
       "      <th>C_ID_0046db9f8a</th>\n",
       "      <td>16019</td>\n",
       "      <td>255</td>\n",
       "      <td>66193</td>\n",
       "      <td>-732</td>\n",
       "      <td>-61.759970</td>\n",
       "      <td>227.0</td>\n",
       "      <td>2228</td>\n",
       "      <td>3987</td>\n",
       "    </tr>\n",
       "    <tr>\n",
       "      <th>C_ID_00727b1b66</th>\n",
       "      <td>1984</td>\n",
       "      <td>34</td>\n",
       "      <td>5152</td>\n",
       "      <td>-24</td>\n",
       "      <td>-3.476444</td>\n",
       "      <td>12.0</td>\n",
       "      <td>179</td>\n",
       "      <td>308</td>\n",
       "    </tr>\n",
       "  </tbody>\n",
       "</table>\n",
       "</div>"
      ],
      "text/plain": [
       "                 city_id  installments  merchant_category_id  month_lag  \\\n",
       "card_id                                                                   \n",
       "C_ID_002198cdf1    15572             0                 37149       -216   \n",
       "C_ID_0032aebb26     9752            13                189961      -1210   \n",
       "C_ID_003839dd44    16484           238                112313      -1189   \n",
       "C_ID_0046db9f8a    16019           255                 66193       -732   \n",
       "C_ID_00727b1b66     1984            34                  5152        -24   \n",
       "\n",
       "                 purchase_amount  category_2  state_id  subsector_id  \n",
       "card_id                                                               \n",
       "C_ID_002198cdf1       -61.358282        95.0       855          2803  \n",
       "C_ID_0032aebb26      -252.506781      1202.0      6733         11320  \n",
       "C_ID_003839dd44      -150.256313       540.0      2023          5763  \n",
       "C_ID_0046db9f8a       -61.759970       227.0      2228          3987  \n",
       "C_ID_00727b1b66        -3.476444        12.0       179           308  "
      ]
     },
     "execution_count": 198,
     "metadata": {},
     "output_type": "execute_result"
    }
   ],
   "source": [
    "ect1 = hist_trans.groupby('card_id').sum()\n",
    "ect1.head()"
   ]
  },
  {
   "cell_type": "code",
   "execution_count": null,
   "metadata": {
    "collapsed": true
   },
   "outputs": [],
   "source": []
  },
  {
   "cell_type": "code",
   "execution_count": null,
   "metadata": {
    "collapsed": true
   },
   "outputs": [],
   "source": []
  },
  {
   "cell_type": "code",
   "execution_count": null,
   "metadata": {
    "collapsed": true
   },
   "outputs": [],
   "source": []
  },
  {
   "cell_type": "code",
   "execution_count": null,
   "metadata": {
    "collapsed": true
   },
   "outputs": [],
   "source": []
  }
 ],
 "metadata": {
  "kernelspec": {
   "display_name": "Python 3",
   "language": "python",
   "name": "python3"
  },
  "language_info": {
   "codemirror_mode": {
    "name": "ipython",
    "version": 3
   },
   "file_extension": ".py",
   "mimetype": "text/x-python",
   "name": "python",
   "nbconvert_exporter": "python",
   "pygments_lexer": "ipython3",
   "version": "3.6.2"
  }
 },
 "nbformat": 4,
 "nbformat_minor": 2
}
