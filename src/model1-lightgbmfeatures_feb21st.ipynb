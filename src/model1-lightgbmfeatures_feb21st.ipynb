{
 "cells": [
  {
   "cell_type": "code",
   "execution_count": 1,
   "metadata": {
    "collapsed": true
   },
   "outputs": [],
   "source": [
    "import pandas as pd\n",
    "import glob\n",
    "import xgboost as xgb\n",
    "import lightgbm as lgb\n",
    "from sklearn.model_selection import train_test_split\n",
    "from sklearn.ensemble import RandomForestRegressor\n",
    "from sklearn.ensemble import ExtraTreesRegressor\n",
    "from sklearn.ensemble import AdaBoostRegressor\n",
    "from sklearn.ensemble import GradientBoostingRegressor\n",
    "from sklearn.model_selection import GridSearchCV\n",
    "from sklearn.model_selection import StratifiedKFold\n",
    "import numpy as np\n",
    "# https://scikit-learn.org/stable/modules/ensemble.html#extremely-randomized-trees"
   ]
  },
  {
   "cell_type": "markdown",
   "metadata": {},
   "source": [
    "### Loading  Data"
   ]
  },
  {
   "cell_type": "code",
   "execution_count": 2,
   "metadata": {
    "collapsed": true
   },
   "outputs": [],
   "source": [
    "train_data = pd.read_csv(\"C:\\\\Kaggle competetion datasets\\\\Elo Merchent Category Recommendation\\\\Elo Feb 18th\\\\summary_card\\\\df_train_summary.csv\")\n",
    "test_data = pd.read_csv(\"C:\\\\Kaggle competetion datasets\\\\Elo Merchent Category Recommendation\\\\Elo Feb 18th\\\\summary_card\\\\df_test_summary.csv\")"
   ]
  },
  {
   "cell_type": "code",
   "execution_count": 3,
   "metadata": {},
   "outputs": [
    {
     "name": "stdout",
     "output_type": "stream",
     "text": [
      "(201917, 95)\n"
     ]
    },
    {
     "data": {
      "text/plain": [
       "(123623, 93)"
      ]
     },
     "execution_count": 3,
     "metadata": {},
     "output_type": "execute_result"
    }
   ],
   "source": [
    "print(train_data.shape)\n",
    "test_data.shape"
   ]
  },
  {
   "cell_type": "markdown",
   "metadata": {},
   "source": [
    "### Functions to concatenate features, kfold splits"
   ]
  },
  {
   "cell_type": "code",
   "execution_count": 4,
   "metadata": {
    "collapsed": true
   },
   "outputs": [],
   "source": [
    "def feature_concat(train_data1,filepath):\n",
    "    for file in filepath:\n",
    "        data_features = pd.read_csv(file)\n",
    "        train_data1=pd.merge(train_data1,data_features,how='left',on='card_id')\n",
    "    return(train_data1)"
   ]
  },
  {
   "cell_type": "code",
   "execution_count": 5,
   "metadata": {
    "collapsed": true
   },
   "outputs": [],
   "source": [
    "def kfold_split(splitcount,train_data1,ignore_cols):  \n",
    "    output_feature=['target']\n",
    "    input_features=[x for x in train_data1.columns if x not in ignore_cols]\n",
    "    train_X = train_data1[input_features]\n",
    "    numerics = ['int16', 'int32', 'int64', 'float16', 'float32', 'float64']\n",
    "    train_X = train_X.select_dtypes(include=numerics)\n",
    "    train_y = train_data1[output_feature]\n",
    "    kf = StratifiedKFold(n_splits=splitcount, random_state=2018, shuffle=True)\n",
    "    counter=0\n",
    "    models=[]\n",
    "    splits={}\n",
    "    for dev_index, val_index in kf.split(train_X,train_data1['target_bin']):\n",
    "        dev_X, val_X = train_X.loc[dev_index, :], train_X.loc[val_index, :]\n",
    "        dev_y, val_y = train_y.loc[dev_index], train_y.loc[val_index]\n",
    "        splits[counter] = [dev_X, val_X,dev_y, val_y]\n",
    "        counter=counter+1\n",
    "    return splits"
   ]
  },
  {
   "cell_type": "markdown",
   "metadata": {},
   "source": [
    "### Concatenate features"
   ]
  },
  {
   "cell_type": "code",
   "execution_count": 6,
   "metadata": {},
   "outputs": [
    {
     "name": "stdout",
     "output_type": "stream",
     "text": [
      "Wall time: 8.29 s\n"
     ]
    }
   ],
   "source": [
    "%%time\n",
    "file_list = glob.glob(\"C:/Kaggle competetion datasets/Elo Merchent Category Recommendation/Elo Feb 18th/features_feb21st/*.csv\")\n",
    "train_features = feature_concat(train_data,file_list)"
   ]
  },
  {
   "cell_type": "code",
   "execution_count": 7,
   "metadata": {},
   "outputs": [
    {
     "data": {
      "text/plain": [
       "(201917, 123)"
      ]
     },
     "execution_count": 7,
     "metadata": {},
     "output_type": "execute_result"
    }
   ],
   "source": [
    "train_features.shape"
   ]
  },
  {
   "cell_type": "code",
   "execution_count": 8,
   "metadata": {
    "collapsed": true
   },
   "outputs": [],
   "source": [
    "# train_features=train_data.copy()"
   ]
  },
  {
   "cell_type": "code",
   "execution_count": 9,
   "metadata": {
    "collapsed": true
   },
   "outputs": [],
   "source": [
    "# # Create correlation matrix\n",
    "# corr_matrix = train_features.corr().abs()\n",
    "\n",
    "# # Select upper triangle of correlation matrix\n",
    "# upper = corr_matrix.where(np.triu(np.ones(corr_matrix.shape), k=1).astype(np.bool))\n",
    "\n",
    "# # Find index of feature columns with correlation greater than 0.95\n",
    "# to_drop = [column for column in upper.columns if any(upper[column] > 0.80)]\n",
    "\n",
    "# train_features=train_features1.drop(to_drop, axis=1).copy()"
   ]
  },
  {
   "cell_type": "markdown",
   "metadata": {},
   "source": [
    "### Binning target variable"
   ]
  },
  {
   "cell_type": "code",
   "execution_count": 8,
   "metadata": {},
   "outputs": [
    {
     "data": {
      "text/plain": [
       "target_bin\n",
       "0    191093\n",
       "2      8200\n",
       "3       363\n",
       "4      2237\n",
       "5        24\n",
       "dtype: int64"
      ]
     },
     "execution_count": 8,
     "metadata": {},
     "output_type": "execute_result"
    }
   ],
   "source": [
    "# Binning the numeric variable to different categories\n",
    "target_std=train_features['target'].std()\n",
    "max_target=train_features['target'].max()+1\n",
    "min_target=train_features['target'].min()-1\n",
    "bins=[min_target,-3*target_std,-2*target_std,-1*target_std,target_std*1,target_std*2,target_std*3,max_target]\n",
    "labels=[-4,-3,-2,0,2,3,5]\n",
    "train_features['target_bin']=pd.cut(train_features['target'],bins=bins,labels=labels).astype(int)\n",
    "train_features['target_bin']=train_features['target_bin'].abs()\n",
    "train_features.groupby(['target_bin']).size()\n"
   ]
  },
  {
   "cell_type": "markdown",
   "metadata": {},
   "source": [
    "### KFold Splits"
   ]
  },
  {
   "cell_type": "code",
   "execution_count": 9,
   "metadata": {},
   "outputs": [
    {
     "name": "stdout",
     "output_type": "stream",
     "text": [
      "Wall time: 1.62 s\n"
     ]
    }
   ],
   "source": [
    "%%time\n",
    "kfolds = kfold_split(5,train_features,['first_active_month', 'card_id','target','target_bin','year_nunique_y','year_nunique_x', 'outliers', 'Unnamed: 0'])"
   ]
  },
  {
   "cell_type": "markdown",
   "metadata": {},
   "source": [
    "### LGBM"
   ]
  },
  {
   "cell_type": "code",
   "execution_count": 10,
   "metadata": {
    "collapsed": true
   },
   "outputs": [],
   "source": [
    "def run_lgb(train_X, train_y, val_X, val_y):\n",
    "    param = {'num_leaves': 30,\n",
    "             'min_data_in_leaf': 177,\n",
    "             'objective': 'regression',\n",
    "             'max_depth': 9,\n",
    "             'learning_rate': 0.01,\n",
    "             \"boosting\": \"gbdt\",\n",
    "#              \"feature_fraction\": 0.7,\n",
    "             \"bagging_freq\": 1,\n",
    "             \"bagging_fraction\": 0.7,\n",
    "             \"bagging_seed\": 11,\n",
    "             \"metric\": 'rmse',\n",
    "             \"lambda_l1\": 0.1,\n",
    "             \"random_state\": 133,\n",
    "             \"verbosity\": -1}\n",
    "\n",
    "    lgtrain = lgb.Dataset(train_X, label=train_y)\n",
    "    lgval = lgb.Dataset(val_X, label=val_y)\n",
    "    evals_result = {}\n",
    "    model = lgb.train(param, lgtrain, 2000, valid_sets=[lgval], early_stopping_rounds=100, verbose_eval=100,\n",
    "                      evals_result=evals_result)\n",
    "    return model, evals_result"
   ]
  },
  {
   "cell_type": "code",
   "execution_count": 11,
   "metadata": {
    "scrolled": true
   },
   "outputs": [
    {
     "name": "stdout",
     "output_type": "stream",
     "text": [
      "Training until validation scores don't improve for 100 rounds.\n",
      "[100]\tvalid_0's rmse: 3.69953\n",
      "[200]\tvalid_0's rmse: 3.66555\n",
      "[300]\tvalid_0's rmse: 3.65195\n",
      "[400]\tvalid_0's rmse: 3.64547\n",
      "[500]\tvalid_0's rmse: 3.64204\n",
      "[600]\tvalid_0's rmse: 3.63991\n",
      "[700]\tvalid_0's rmse: 3.63907\n",
      "[800]\tvalid_0's rmse: 3.63865\n",
      "[900]\tvalid_0's rmse: 3.63845\n",
      "Early stopping, best iteration is:\n",
      "[842]\tvalid_0's rmse: 3.63837\n"
     ]
    }
   ],
   "source": [
    "best_list = []\n",
    "imp_list = []\n",
    "for split in range(0,1):\n",
    "    model, evals_result = run_lgb(kfolds[split][0], kfolds[split][2], kfolds[split][1], kfolds[split][3])\n",
    "    \n",
    "    best = {}\n",
    "    best['best_iter'] = model.best_iteration\n",
    "    best['best_score'] = model.best_score['valid_0']['rmse']\n",
    "    best_list.append(best)\n",
    "    feature_imp = pd.DataFrame(model.feature_importance(), kfolds[split][0].columns).sort_values(0,ascending=False).reset_index()\n",
    "    feature_imp['split'] = split\n",
    "    imp_list.append(feature_imp)\n",
    "    \n",
    "    "
   ]
  },
  {
   "cell_type": "code",
   "execution_count": 14,
   "metadata": {},
   "outputs": [
    {
     "data": {
      "text/plain": [
       "[                                     index     0  split\n",
       " 0                     hist_month_diff_mean  1287      0\n",
       " 1             new_hist_purchase_amount_max   921      0\n",
       " 2                hist_authorized_flag_mean   819      0\n",
       " 3           new_hist_purchase_date_uptonow   762      0\n",
       " 4                                     qua2   760      0\n",
       " 5                      hist_category_1_sum   668      0\n",
       " 6                  new_hist_month_lag_mean   588      0\n",
       " 7                                     qua3   529      0\n",
       " 8              new_hist_purchase_date_diff   509      0\n",
       " 9                hist_purchase_amount_mean   485      0\n",
       " 10                  hist_purchase_date_max   482      0\n",
       " 11                      hist_month_nunique   480      0\n",
       " 12           new_hist_purchase_amount_mean   478      0\n",
       " 13              hist_purchase_date_uptonow   439      0\n",
       " 14                    hist_category_1_mean   433      0\n",
       " 15                  hist_new_trx_date_diff   392      0\n",
       " 16            new_hist_purchase_amount_var   389      0\n",
       " 17                hist_purchase_amount_min   386      0\n",
       " 18                new_hist_category_1_mean   373      0\n",
       " 19                          hist_first_buy   371      0\n",
       " 20              new_hist_purchase_date_max   368      0\n",
       " 21                  hist_purchase_date_min   352      0\n",
       " 22               hist_category_3_mean_mean   340      0\n",
       " 23                 hist_purchase_date_diff   338      0\n",
       " 24                   hist_installments_sum   332      0\n",
       " 25          new_hist_purchase_date_average   312      0\n",
       " 26                                    qua4   299      0\n",
       " 27                merc_idcount_mean_x_diff   298      0\n",
       " 28              new_hist_purchase_date_min   292      0\n",
       " 29                       hist_weekend_mean   276      0\n",
       " ..                                     ...   ...    ...\n",
       " 88                    hist_city_id_nunique    62      0\n",
       " 89   new_hist_merchant_category_id_nunique    54      0\n",
       " 90           new_hist_subsector_id_nunique    51      0\n",
       " 91             new_hist_weekofyear_nunique    50      0\n",
       " 92            new_hist_merchant_id_nunique    48      0\n",
       " 93               new_hist_installments_sum    44      0\n",
       " 94              new_hist_dayofyear_nunique    44      0\n",
       " 95                               feature_3    43      0\n",
       " 96                   hist_state_id_nunique    42      0\n",
       " 97           new_hist_category_2_mean_mean    41      0\n",
       " 98                   new_hist_card_id_size    37      0\n",
       " 99                   new_hist_year_nunique    36      0\n",
       " 100                  new_hist_hour_nunique    36      0\n",
       " 101                     hist_month_lag_min    34      0\n",
       " 102                 new_hist_month_lag_max    31      0\n",
       " 103                  hist_installments_max    29      0\n",
       " 104                    merc_count_<lambda>    29      0\n",
       " 105              new_hist_installments_max    28      0\n",
       " 106             new_hist_dayofweek_nunique    27      0\n",
       " 107                  merc_idcount_<lambda>    22      0\n",
       " 108                 new_hist_month_nunique    21      0\n",
       " 109                     sub_count_<lambda>    19      0\n",
       " 110        new_hist_category_1_2_3_nunique    16      0\n",
       " 111                 hist_dayofweek_nunique    15      0\n",
       " 112               new_hist_city_id_nunique    13      0\n",
       " 113              new_hist_state_id_nunique    11      0\n",
       " 114                    city_count_<lambda>    11      0\n",
       " 115                   new_hist_weekend_sum     7      0\n",
       " 116                 new_hist_month_lag_min     4      0\n",
       " 117                      hist_year_nunique     2      0\n",
       " \n",
       " [118 rows x 3 columns]]"
      ]
     },
     "execution_count": 14,
     "metadata": {},
     "output_type": "execute_result"
    }
   ],
   "source": [
    "imp_list"
   ]
  },
  {
   "cell_type": "code",
   "execution_count": 13,
   "metadata": {
    "scrolled": true
   },
   "outputs": [
    {
     "data": {
      "text/html": [
       "<div>\n",
       "<style scoped>\n",
       "    .dataframe tbody tr th:only-of-type {\n",
       "        vertical-align: middle;\n",
       "    }\n",
       "\n",
       "    .dataframe tbody tr th {\n",
       "        vertical-align: top;\n",
       "    }\n",
       "\n",
       "    .dataframe thead th {\n",
       "        text-align: right;\n",
       "    }\n",
       "</style>\n",
       "<table border=\"1\" class=\"dataframe\">\n",
       "  <thead>\n",
       "    <tr style=\"text-align: right;\">\n",
       "      <th></th>\n",
       "      <th>0</th>\n",
       "      <th>split</th>\n",
       "    </tr>\n",
       "    <tr>\n",
       "      <th>index</th>\n",
       "      <th></th>\n",
       "      <th></th>\n",
       "    </tr>\n",
       "  </thead>\n",
       "  <tbody>\n",
       "    <tr>\n",
       "      <th>card_id_total</th>\n",
       "      <td>87</td>\n",
       "      <td>0</td>\n",
       "    </tr>\n",
       "    <tr>\n",
       "      <th>city_count_&lt;lambda&gt;</th>\n",
       "      <td>11</td>\n",
       "      <td>0</td>\n",
       "    </tr>\n",
       "    <tr>\n",
       "      <th>city_count_mean</th>\n",
       "      <td>166</td>\n",
       "      <td>0</td>\n",
       "    </tr>\n",
       "    <tr>\n",
       "      <th>city_count_mean_x_diff</th>\n",
       "      <td>242</td>\n",
       "      <td>0</td>\n",
       "    </tr>\n",
       "    <tr>\n",
       "      <th>city_count_var</th>\n",
       "      <td>166</td>\n",
       "      <td>0</td>\n",
       "    </tr>\n",
       "    <tr>\n",
       "      <th>dayofweek</th>\n",
       "      <td>63</td>\n",
       "      <td>0</td>\n",
       "    </tr>\n",
       "    <tr>\n",
       "      <th>elapsed_time</th>\n",
       "      <td>174</td>\n",
       "      <td>0</td>\n",
       "    </tr>\n",
       "    <tr>\n",
       "      <th>feature_1</th>\n",
       "      <td>151</td>\n",
       "      <td>0</td>\n",
       "    </tr>\n",
       "    <tr>\n",
       "      <th>feature_2</th>\n",
       "      <td>93</td>\n",
       "      <td>0</td>\n",
       "    </tr>\n",
       "    <tr>\n",
       "      <th>feature_3</th>\n",
       "      <td>43</td>\n",
       "      <td>0</td>\n",
       "    </tr>\n",
       "    <tr>\n",
       "      <th>hist_authorized_flag_mean</th>\n",
       "      <td>819</td>\n",
       "      <td>0</td>\n",
       "    </tr>\n",
       "    <tr>\n",
       "      <th>hist_authorized_flag_sum</th>\n",
       "      <td>89</td>\n",
       "      <td>0</td>\n",
       "    </tr>\n",
       "    <tr>\n",
       "      <th>hist_card_id_size</th>\n",
       "      <td>67</td>\n",
       "      <td>0</td>\n",
       "    </tr>\n",
       "    <tr>\n",
       "      <th>hist_category_1_2_3_nunique</th>\n",
       "      <td>78</td>\n",
       "      <td>0</td>\n",
       "    </tr>\n",
       "    <tr>\n",
       "      <th>hist_category_1_mean</th>\n",
       "      <td>433</td>\n",
       "      <td>0</td>\n",
       "    </tr>\n",
       "    <tr>\n",
       "      <th>hist_category_1_sum</th>\n",
       "      <td>668</td>\n",
       "      <td>0</td>\n",
       "    </tr>\n",
       "    <tr>\n",
       "      <th>hist_category_2_mean_mean</th>\n",
       "      <td>105</td>\n",
       "      <td>0</td>\n",
       "    </tr>\n",
       "    <tr>\n",
       "      <th>hist_category_3_mean_mean</th>\n",
       "      <td>340</td>\n",
       "      <td>0</td>\n",
       "    </tr>\n",
       "    <tr>\n",
       "      <th>hist_city_id_nunique</th>\n",
       "      <td>62</td>\n",
       "      <td>0</td>\n",
       "    </tr>\n",
       "    <tr>\n",
       "      <th>hist_dayofweek_nunique</th>\n",
       "      <td>15</td>\n",
       "      <td>0</td>\n",
       "    </tr>\n",
       "    <tr>\n",
       "      <th>hist_dayofyear_nunique</th>\n",
       "      <td>168</td>\n",
       "      <td>0</td>\n",
       "    </tr>\n",
       "    <tr>\n",
       "      <th>hist_first_buy</th>\n",
       "      <td>371</td>\n",
       "      <td>0</td>\n",
       "    </tr>\n",
       "    <tr>\n",
       "      <th>hist_hour_nunique</th>\n",
       "      <td>99</td>\n",
       "      <td>0</td>\n",
       "    </tr>\n",
       "    <tr>\n",
       "      <th>hist_installments_max</th>\n",
       "      <td>29</td>\n",
       "      <td>0</td>\n",
       "    </tr>\n",
       "    <tr>\n",
       "      <th>hist_installments_mean</th>\n",
       "      <td>223</td>\n",
       "      <td>0</td>\n",
       "    </tr>\n",
       "    <tr>\n",
       "      <th>hist_installments_min</th>\n",
       "      <td>73</td>\n",
       "      <td>0</td>\n",
       "    </tr>\n",
       "    <tr>\n",
       "      <th>hist_installments_sum</th>\n",
       "      <td>332</td>\n",
       "      <td>0</td>\n",
       "    </tr>\n",
       "    <tr>\n",
       "      <th>hist_installments_var</th>\n",
       "      <td>234</td>\n",
       "      <td>0</td>\n",
       "    </tr>\n",
       "    <tr>\n",
       "      <th>hist_merchant_category_id_nunique</th>\n",
       "      <td>135</td>\n",
       "      <td>0</td>\n",
       "    </tr>\n",
       "    <tr>\n",
       "      <th>hist_merchant_id_nunique</th>\n",
       "      <td>231</td>\n",
       "      <td>0</td>\n",
       "    </tr>\n",
       "    <tr>\n",
       "      <th>...</th>\n",
       "      <td>...</td>\n",
       "      <td>...</td>\n",
       "    </tr>\n",
       "    <tr>\n",
       "      <th>new_hist_purchase_amount_max</th>\n",
       "      <td>921</td>\n",
       "      <td>0</td>\n",
       "    </tr>\n",
       "    <tr>\n",
       "      <th>new_hist_purchase_amount_mean</th>\n",
       "      <td>478</td>\n",
       "      <td>0</td>\n",
       "    </tr>\n",
       "    <tr>\n",
       "      <th>new_hist_purchase_amount_min</th>\n",
       "      <td>270</td>\n",
       "      <td>0</td>\n",
       "    </tr>\n",
       "    <tr>\n",
       "      <th>new_hist_purchase_amount_sum</th>\n",
       "      <td>199</td>\n",
       "      <td>0</td>\n",
       "    </tr>\n",
       "    <tr>\n",
       "      <th>new_hist_purchase_amount_var</th>\n",
       "      <td>389</td>\n",
       "      <td>0</td>\n",
       "    </tr>\n",
       "    <tr>\n",
       "      <th>new_hist_purchase_date_average</th>\n",
       "      <td>312</td>\n",
       "      <td>0</td>\n",
       "    </tr>\n",
       "    <tr>\n",
       "      <th>new_hist_purchase_date_diff</th>\n",
       "      <td>509</td>\n",
       "      <td>0</td>\n",
       "    </tr>\n",
       "    <tr>\n",
       "      <th>new_hist_purchase_date_max</th>\n",
       "      <td>368</td>\n",
       "      <td>0</td>\n",
       "    </tr>\n",
       "    <tr>\n",
       "      <th>new_hist_purchase_date_min</th>\n",
       "      <td>292</td>\n",
       "      <td>0</td>\n",
       "    </tr>\n",
       "    <tr>\n",
       "      <th>new_hist_purchase_date_uptonow</th>\n",
       "      <td>762</td>\n",
       "      <td>0</td>\n",
       "    </tr>\n",
       "    <tr>\n",
       "      <th>new_hist_state_id_nunique</th>\n",
       "      <td>11</td>\n",
       "      <td>0</td>\n",
       "    </tr>\n",
       "    <tr>\n",
       "      <th>new_hist_subsector_id_nunique</th>\n",
       "      <td>51</td>\n",
       "      <td>0</td>\n",
       "    </tr>\n",
       "    <tr>\n",
       "      <th>new_hist_weekend_mean</th>\n",
       "      <td>74</td>\n",
       "      <td>0</td>\n",
       "    </tr>\n",
       "    <tr>\n",
       "      <th>new_hist_weekend_sum</th>\n",
       "      <td>7</td>\n",
       "      <td>0</td>\n",
       "    </tr>\n",
       "    <tr>\n",
       "      <th>new_hist_weekofyear_nunique</th>\n",
       "      <td>50</td>\n",
       "      <td>0</td>\n",
       "    </tr>\n",
       "    <tr>\n",
       "      <th>new_hist_year_nunique</th>\n",
       "      <td>36</td>\n",
       "      <td>0</td>\n",
       "    </tr>\n",
       "    <tr>\n",
       "      <th>purchase_amount_total</th>\n",
       "      <td>175</td>\n",
       "      <td>0</td>\n",
       "    </tr>\n",
       "    <tr>\n",
       "      <th>qua1</th>\n",
       "      <td>245</td>\n",
       "      <td>0</td>\n",
       "    </tr>\n",
       "    <tr>\n",
       "      <th>qua2</th>\n",
       "      <td>760</td>\n",
       "      <td>0</td>\n",
       "    </tr>\n",
       "    <tr>\n",
       "      <th>qua3</th>\n",
       "      <td>529</td>\n",
       "      <td>0</td>\n",
       "    </tr>\n",
       "    <tr>\n",
       "      <th>qua4</th>\n",
       "      <td>299</td>\n",
       "      <td>0</td>\n",
       "    </tr>\n",
       "    <tr>\n",
       "      <th>sub_count_&lt;lambda&gt;</th>\n",
       "      <td>19</td>\n",
       "      <td>0</td>\n",
       "    </tr>\n",
       "    <tr>\n",
       "      <th>sub_count_mean</th>\n",
       "      <td>112</td>\n",
       "      <td>0</td>\n",
       "    </tr>\n",
       "    <tr>\n",
       "      <th>sub_count_mean_x_diff</th>\n",
       "      <td>139</td>\n",
       "      <td>0</td>\n",
       "    </tr>\n",
       "    <tr>\n",
       "      <th>sub_count_var</th>\n",
       "      <td>139</td>\n",
       "      <td>0</td>\n",
       "    </tr>\n",
       "    <tr>\n",
       "      <th>total_amount_&lt;lambda&gt;</th>\n",
       "      <td>143</td>\n",
       "      <td>0</td>\n",
       "    </tr>\n",
       "    <tr>\n",
       "      <th>total_amount_mean</th>\n",
       "      <td>131</td>\n",
       "      <td>0</td>\n",
       "    </tr>\n",
       "    <tr>\n",
       "      <th>total_amount_mean_x_diff</th>\n",
       "      <td>182</td>\n",
       "      <td>0</td>\n",
       "    </tr>\n",
       "    <tr>\n",
       "      <th>total_amount_var</th>\n",
       "      <td>131</td>\n",
       "      <td>0</td>\n",
       "    </tr>\n",
       "    <tr>\n",
       "      <th>weekofyear</th>\n",
       "      <td>134</td>\n",
       "      <td>0</td>\n",
       "    </tr>\n",
       "  </tbody>\n",
       "</table>\n",
       "<p>118 rows × 2 columns</p>\n",
       "</div>"
      ],
      "text/plain": [
       "                                     0  split\n",
       "index                                        \n",
       "card_id_total                       87      0\n",
       "city_count_<lambda>                 11      0\n",
       "city_count_mean                    166      0\n",
       "city_count_mean_x_diff             242      0\n",
       "city_count_var                     166      0\n",
       "dayofweek                           63      0\n",
       "elapsed_time                       174      0\n",
       "feature_1                          151      0\n",
       "feature_2                           93      0\n",
       "feature_3                           43      0\n",
       "hist_authorized_flag_mean          819      0\n",
       "hist_authorized_flag_sum            89      0\n",
       "hist_card_id_size                   67      0\n",
       "hist_category_1_2_3_nunique         78      0\n",
       "hist_category_1_mean               433      0\n",
       "hist_category_1_sum                668      0\n",
       "hist_category_2_mean_mean          105      0\n",
       "hist_category_3_mean_mean          340      0\n",
       "hist_city_id_nunique                62      0\n",
       "hist_dayofweek_nunique              15      0\n",
       "hist_dayofyear_nunique             168      0\n",
       "hist_first_buy                     371      0\n",
       "hist_hour_nunique                   99      0\n",
       "hist_installments_max               29      0\n",
       "hist_installments_mean             223      0\n",
       "hist_installments_min               73      0\n",
       "hist_installments_sum              332      0\n",
       "hist_installments_var              234      0\n",
       "hist_merchant_category_id_nunique  135      0\n",
       "hist_merchant_id_nunique           231      0\n",
       "...                                ...    ...\n",
       "new_hist_purchase_amount_max       921      0\n",
       "new_hist_purchase_amount_mean      478      0\n",
       "new_hist_purchase_amount_min       270      0\n",
       "new_hist_purchase_amount_sum       199      0\n",
       "new_hist_purchase_amount_var       389      0\n",
       "new_hist_purchase_date_average     312      0\n",
       "new_hist_purchase_date_diff        509      0\n",
       "new_hist_purchase_date_max         368      0\n",
       "new_hist_purchase_date_min         292      0\n",
       "new_hist_purchase_date_uptonow     762      0\n",
       "new_hist_state_id_nunique           11      0\n",
       "new_hist_subsector_id_nunique       51      0\n",
       "new_hist_weekend_mean               74      0\n",
       "new_hist_weekend_sum                 7      0\n",
       "new_hist_weekofyear_nunique         50      0\n",
       "new_hist_year_nunique               36      0\n",
       "purchase_amount_total              175      0\n",
       "qua1                               245      0\n",
       "qua2                               760      0\n",
       "qua3                               529      0\n",
       "qua4                               299      0\n",
       "sub_count_<lambda>                  19      0\n",
       "sub_count_mean                     112      0\n",
       "sub_count_mean_x_diff              139      0\n",
       "sub_count_var                      139      0\n",
       "total_amount_<lambda>              143      0\n",
       "total_amount_mean                  131      0\n",
       "total_amount_mean_x_diff           182      0\n",
       "total_amount_var                   131      0\n",
       "weekofyear                         134      0\n",
       "\n",
       "[118 rows x 2 columns]"
      ]
     },
     "execution_count": 13,
     "metadata": {},
     "output_type": "execute_result"
    }
   ],
   "source": [
    "imp_list_df = pd.concat(imp_list, axis=0).groupby('index').agg('mean')\n",
    "imp_list_df"
   ]
  },
  {
   "cell_type": "code",
   "execution_count": 13,
   "metadata": {
    "collapsed": true,
    "scrolled": true
   },
   "outputs": [],
   "source": [
    "# %matplotlib inline \n",
    "# import matplotlib.pyplot as plt\n",
    "# fig, ax = plt.subplots(figsize=(12,10))\n",
    "# lgb.plot_importance(model, max_num_features=50, height=0.8, ax=ax)\n",
    "# ax.grid(False)\n",
    "# plt.title(\"LightGBM - Feature Importance\", fontsize=15)\n",
    "# plt.show()"
   ]
  },
  {
   "cell_type": "markdown",
   "metadata": {},
   "source": [
    "### With Mean Feature_Importance"
   ]
  },
  {
   "cell_type": "code",
   "execution_count": 12,
   "metadata": {
    "collapsed": true,
    "scrolled": true
   },
   "outputs": [],
   "source": [
    "# import seaborn as sns\n",
    "# fig, ax = plt.subplots(figsize=(12,20))\n",
    "# sns.barplot(x=\"Mean\", y=\"Col_Names\", data = feature_imp, orient='h',ax=ax)\n",
    "# plt.show()"
   ]
  },
  {
   "cell_type": "markdown",
   "metadata": {
    "collapsed": true
   },
   "source": [
    "### Random Forest"
   ]
  },
  {
   "cell_type": "code",
   "execution_count": null,
   "metadata": {
    "collapsed": true
   },
   "outputs": [],
   "source": [
    "def run_lgb(train_X, train_y, val_X, val_y):\n",
    "    param = {'num_leaves': 30,\n",
    "             'min_data_in_leaf': 177,\n",
    "             'objective': 'regression',\n",
    "             'max_depth': 9,\n",
    "             'learning_rate': 0.01,\n",
    "             \"boosting\": \"gbdt\",\n",
    "#              \"feature_fraction\": 0.7,\n",
    "             \"bagging_freq\": 1,\n",
    "             \"bagging_fraction\": 0.7,\n",
    "             \"bagging_seed\": 11,\n",
    "             \"metric\": 'rmse',\n",
    "             \"lambda_l1\": 0.1,\n",
    "             \"random_state\": 133,\n",
    "             \"verbosity\": -1}\n",
    "\n",
    "    lgtrain = lgb.Dataset(train_X, label=train_y)\n",
    "    lgval = lgb.Dataset(val_X, label=val_y)\n",
    "    evals_result = {}\n",
    "    model = lgb.train(param, lgtrain, 2000, valid_sets=[lgval], early_stopping_rounds=100, verbose_eval=100,\n",
    "                      evals_result=evals_result)\n",
    "    return model, evals_result"
   ]
  },
  {
   "cell_type": "code",
   "execution_count": null,
   "metadata": {
    "collapsed": true
   },
   "outputs": [],
   "source": []
  },
  {
   "cell_type": "code",
   "execution_count": null,
   "metadata": {
    "collapsed": true
   },
   "outputs": [],
   "source": []
  },
  {
   "cell_type": "code",
   "execution_count": null,
   "metadata": {
    "collapsed": true
   },
   "outputs": [],
   "source": []
  },
  {
   "cell_type": "code",
   "execution_count": null,
   "metadata": {
    "collapsed": true
   },
   "outputs": [],
   "source": []
  },
  {
   "cell_type": "code",
   "execution_count": null,
   "metadata": {
    "collapsed": true
   },
   "outputs": [],
   "source": []
  },
  {
   "cell_type": "code",
   "execution_count": null,
   "metadata": {
    "collapsed": true
   },
   "outputs": [],
   "source": []
  },
  {
   "cell_type": "code",
   "execution_count": null,
   "metadata": {
    "collapsed": true
   },
   "outputs": [],
   "source": []
  }
 ],
 "metadata": {
  "kernelspec": {
   "display_name": "Python 3",
   "language": "python",
   "name": "python3"
  },
  "language_info": {
   "codemirror_mode": {
    "name": "ipython",
    "version": 3
   },
   "file_extension": ".py",
   "mimetype": "text/x-python",
   "name": "python",
   "nbconvert_exporter": "python",
   "pygments_lexer": "ipython3",
   "version": "3.6.2"
  }
 },
 "nbformat": 4,
 "nbformat_minor": 2
}
