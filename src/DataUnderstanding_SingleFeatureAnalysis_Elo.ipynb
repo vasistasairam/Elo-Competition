{
 "cells": [
  {
   "cell_type": "markdown",
   "metadata": {},
   "source": [
    "### Load a split of transactions data, and do the following"
   ]
  },
  {
   "cell_type": "code",
   "execution_count": 1,
   "metadata": {
    "collapsed": true
   },
   "outputs": [],
   "source": [
    "# Import Packages\n",
    "import pandas as pd\n",
    "import numpy as np\n",
    "import matplotlib.pyplot as plt\n",
    "import seaborn as sns"
   ]
  },
  {
   "cell_type": "code",
   "execution_count": 2,
   "metadata": {},
   "outputs": [
    {
     "data": {
      "text/html": [
       "<div>\n",
       "<style>\n",
       "    .dataframe thead tr:only-child th {\n",
       "        text-align: right;\n",
       "    }\n",
       "\n",
       "    .dataframe thead th {\n",
       "        text-align: left;\n",
       "    }\n",
       "\n",
       "    .dataframe tbody tr th {\n",
       "        vertical-align: top;\n",
       "    }\n",
       "</style>\n",
       "<table border=\"1\" class=\"dataframe\">\n",
       "  <thead>\n",
       "    <tr style=\"text-align: right;\">\n",
       "      <th></th>\n",
       "      <th>authorized_flag</th>\n",
       "      <th>card_id</th>\n",
       "      <th>city_id</th>\n",
       "      <th>category_1</th>\n",
       "      <th>installments</th>\n",
       "      <th>category_3</th>\n",
       "      <th>merchant_category_id</th>\n",
       "      <th>merchant_id</th>\n",
       "      <th>month_lag</th>\n",
       "      <th>purchase_amount</th>\n",
       "      <th>purchase_date</th>\n",
       "      <th>category_2</th>\n",
       "      <th>state_id</th>\n",
       "      <th>subsector_id</th>\n",
       "    </tr>\n",
       "  </thead>\n",
       "  <tbody>\n",
       "    <tr>\n",
       "      <th>0</th>\n",
       "      <td>Y</td>\n",
       "      <td>C_ID_4e6213e9bc</td>\n",
       "      <td>88</td>\n",
       "      <td>N</td>\n",
       "      <td>0</td>\n",
       "      <td>A</td>\n",
       "      <td>80</td>\n",
       "      <td>M_ID_e020e9b302</td>\n",
       "      <td>-8</td>\n",
       "      <td>-0.703331</td>\n",
       "      <td>2017-06-25 15:33:07</td>\n",
       "      <td>1.0</td>\n",
       "      <td>16</td>\n",
       "      <td>37</td>\n",
       "    </tr>\n",
       "    <tr>\n",
       "      <th>1</th>\n",
       "      <td>Y</td>\n",
       "      <td>C_ID_4e6213e9bc</td>\n",
       "      <td>88</td>\n",
       "      <td>N</td>\n",
       "      <td>0</td>\n",
       "      <td>A</td>\n",
       "      <td>367</td>\n",
       "      <td>M_ID_86ec983688</td>\n",
       "      <td>-7</td>\n",
       "      <td>-0.733128</td>\n",
       "      <td>2017-07-15 12:10:45</td>\n",
       "      <td>1.0</td>\n",
       "      <td>16</td>\n",
       "      <td>16</td>\n",
       "    </tr>\n",
       "    <tr>\n",
       "      <th>2</th>\n",
       "      <td>Y</td>\n",
       "      <td>C_ID_4e6213e9bc</td>\n",
       "      <td>88</td>\n",
       "      <td>N</td>\n",
       "      <td>0</td>\n",
       "      <td>A</td>\n",
       "      <td>80</td>\n",
       "      <td>M_ID_979ed661fc</td>\n",
       "      <td>-6</td>\n",
       "      <td>-0.720386</td>\n",
       "      <td>2017-08-09 22:04:29</td>\n",
       "      <td>1.0</td>\n",
       "      <td>16</td>\n",
       "      <td>37</td>\n",
       "    </tr>\n",
       "    <tr>\n",
       "      <th>3</th>\n",
       "      <td>Y</td>\n",
       "      <td>C_ID_4e6213e9bc</td>\n",
       "      <td>88</td>\n",
       "      <td>N</td>\n",
       "      <td>0</td>\n",
       "      <td>A</td>\n",
       "      <td>560</td>\n",
       "      <td>M_ID_e6d5ae8ea6</td>\n",
       "      <td>-5</td>\n",
       "      <td>-0.735352</td>\n",
       "      <td>2017-09-02 10:06:26</td>\n",
       "      <td>1.0</td>\n",
       "      <td>16</td>\n",
       "      <td>34</td>\n",
       "    </tr>\n",
       "    <tr>\n",
       "      <th>4</th>\n",
       "      <td>Y</td>\n",
       "      <td>C_ID_4e6213e9bc</td>\n",
       "      <td>88</td>\n",
       "      <td>N</td>\n",
       "      <td>0</td>\n",
       "      <td>A</td>\n",
       "      <td>80</td>\n",
       "      <td>M_ID_e020e9b302</td>\n",
       "      <td>-11</td>\n",
       "      <td>-0.722865</td>\n",
       "      <td>2017-03-10 01:14:19</td>\n",
       "      <td>1.0</td>\n",
       "      <td>16</td>\n",
       "      <td>37</td>\n",
       "    </tr>\n",
       "  </tbody>\n",
       "</table>\n",
       "</div>"
      ],
      "text/plain": [
       "  authorized_flag          card_id  city_id category_1  installments  \\\n",
       "0               Y  C_ID_4e6213e9bc       88          N             0   \n",
       "1               Y  C_ID_4e6213e9bc       88          N             0   \n",
       "2               Y  C_ID_4e6213e9bc       88          N             0   \n",
       "3               Y  C_ID_4e6213e9bc       88          N             0   \n",
       "4               Y  C_ID_4e6213e9bc       88          N             0   \n",
       "\n",
       "  category_3  merchant_category_id      merchant_id  month_lag  \\\n",
       "0          A                    80  M_ID_e020e9b302         -8   \n",
       "1          A                   367  M_ID_86ec983688         -7   \n",
       "2          A                    80  M_ID_979ed661fc         -6   \n",
       "3          A                   560  M_ID_e6d5ae8ea6         -5   \n",
       "4          A                    80  M_ID_e020e9b302        -11   \n",
       "\n",
       "   purchase_amount        purchase_date  category_2  state_id  subsector_id  \n",
       "0        -0.703331  2017-06-25 15:33:07         1.0        16            37  \n",
       "1        -0.733128  2017-07-15 12:10:45         1.0        16            16  \n",
       "2        -0.720386  2017-08-09 22:04:29         1.0        16            37  \n",
       "3        -0.735352  2017-09-02 10:06:26         1.0        16            34  \n",
       "4        -0.722865  2017-03-10 01:14:19         1.0        16            37  "
      ]
     },
     "execution_count": 2,
     "metadata": {},
     "output_type": "execute_result"
    }
   ],
   "source": [
    "# Load Dataset\n",
    "transactions = pd.read_csv('C:\\\\Kaggle competetion datasets\\\\Elo Merchent Category Recommendation\\\\historical_transactions.csv', \n",
    "                        nrows = 500000)\n",
    "transactions.head()"
   ]
  },
  {
   "cell_type": "markdown",
   "metadata": {},
   "source": [
    "1. Understand the summary and structure of the data"
   ]
  },
  {
   "cell_type": "code",
   "execution_count": 3,
   "metadata": {},
   "outputs": [
    {
     "data": {
      "text/html": [
       "<div>\n",
       "<style>\n",
       "    .dataframe thead tr:only-child th {\n",
       "        text-align: right;\n",
       "    }\n",
       "\n",
       "    .dataframe thead th {\n",
       "        text-align: left;\n",
       "    }\n",
       "\n",
       "    .dataframe tbody tr th {\n",
       "        vertical-align: top;\n",
       "    }\n",
       "</style>\n",
       "<table border=\"1\" class=\"dataframe\">\n",
       "  <thead>\n",
       "    <tr style=\"text-align: right;\">\n",
       "      <th></th>\n",
       "      <th>city_id</th>\n",
       "      <th>installments</th>\n",
       "      <th>merchant_category_id</th>\n",
       "      <th>month_lag</th>\n",
       "      <th>purchase_amount</th>\n",
       "      <th>category_2</th>\n",
       "      <th>state_id</th>\n",
       "      <th>subsector_id</th>\n",
       "    </tr>\n",
       "  </thead>\n",
       "  <tbody>\n",
       "    <tr>\n",
       "      <th>count</th>\n",
       "      <td>500000.000000</td>\n",
       "      <td>500000.000000</td>\n",
       "      <td>500000.000000</td>\n",
       "      <td>500000.000000</td>\n",
       "      <td>500000.000000</td>\n",
       "      <td>461378.000000</td>\n",
       "      <td>500000.000000</td>\n",
       "      <td>500000.000000</td>\n",
       "    </tr>\n",
       "    <tr>\n",
       "      <th>mean</th>\n",
       "      <td>127.698758</td>\n",
       "      <td>0.502186</td>\n",
       "      <td>470.068862</td>\n",
       "      <td>-5.046724</td>\n",
       "      <td>-0.407912</td>\n",
       "      <td>2.185453</td>\n",
       "      <td>10.681738</td>\n",
       "      <td>27.497640</td>\n",
       "    </tr>\n",
       "    <tr>\n",
       "      <th>std</th>\n",
       "      <td>102.815116</td>\n",
       "      <td>2.205930</td>\n",
       "      <td>248.869232</td>\n",
       "      <td>3.696011</td>\n",
       "      <td>44.912295</td>\n",
       "      <td>1.530376</td>\n",
       "      <td>6.257153</td>\n",
       "      <td>9.524456</td>\n",
       "    </tr>\n",
       "    <tr>\n",
       "      <th>min</th>\n",
       "      <td>-1.000000</td>\n",
       "      <td>-1.000000</td>\n",
       "      <td>-1.000000</td>\n",
       "      <td>-13.000000</td>\n",
       "      <td>-0.746908</td>\n",
       "      <td>1.000000</td>\n",
       "      <td>-1.000000</td>\n",
       "      <td>-1.000000</td>\n",
       "    </tr>\n",
       "    <tr>\n",
       "      <th>25%</th>\n",
       "      <td>53.000000</td>\n",
       "      <td>0.000000</td>\n",
       "      <td>278.000000</td>\n",
       "      <td>-8.000000</td>\n",
       "      <td>-0.722069</td>\n",
       "      <td>1.000000</td>\n",
       "      <td>9.000000</td>\n",
       "      <td>19.000000</td>\n",
       "    </tr>\n",
       "    <tr>\n",
       "      <th>50%</th>\n",
       "      <td>88.000000</td>\n",
       "      <td>0.000000</td>\n",
       "      <td>437.000000</td>\n",
       "      <td>-4.000000</td>\n",
       "      <td>-0.694315</td>\n",
       "      <td>1.000000</td>\n",
       "      <td>9.000000</td>\n",
       "      <td>33.000000</td>\n",
       "    </tr>\n",
       "    <tr>\n",
       "      <th>75%</th>\n",
       "      <td>211.000000</td>\n",
       "      <td>1.000000</td>\n",
       "      <td>705.000000</td>\n",
       "      <td>-2.000000</td>\n",
       "      <td>-0.621406</td>\n",
       "      <td>3.000000</td>\n",
       "      <td>15.000000</td>\n",
       "      <td>34.000000</td>\n",
       "    </tr>\n",
       "    <tr>\n",
       "      <th>max</th>\n",
       "      <td>347.000000</td>\n",
       "      <td>999.000000</td>\n",
       "      <td>891.000000</td>\n",
       "      <td>0.000000</td>\n",
       "      <td>19536.621128</td>\n",
       "      <td>5.000000</td>\n",
       "      <td>24.000000</td>\n",
       "      <td>41.000000</td>\n",
       "    </tr>\n",
       "  </tbody>\n",
       "</table>\n",
       "</div>"
      ],
      "text/plain": [
       "             city_id   installments  merchant_category_id      month_lag  \\\n",
       "count  500000.000000  500000.000000         500000.000000  500000.000000   \n",
       "mean      127.698758       0.502186            470.068862      -5.046724   \n",
       "std       102.815116       2.205930            248.869232       3.696011   \n",
       "min        -1.000000      -1.000000             -1.000000     -13.000000   \n",
       "25%        53.000000       0.000000            278.000000      -8.000000   \n",
       "50%        88.000000       0.000000            437.000000      -4.000000   \n",
       "75%       211.000000       1.000000            705.000000      -2.000000   \n",
       "max       347.000000     999.000000            891.000000       0.000000   \n",
       "\n",
       "       purchase_amount     category_2       state_id   subsector_id  \n",
       "count    500000.000000  461378.000000  500000.000000  500000.000000  \n",
       "mean         -0.407912       2.185453      10.681738      27.497640  \n",
       "std          44.912295       1.530376       6.257153       9.524456  \n",
       "min          -0.746908       1.000000      -1.000000      -1.000000  \n",
       "25%          -0.722069       1.000000       9.000000      19.000000  \n",
       "50%          -0.694315       1.000000       9.000000      33.000000  \n",
       "75%          -0.621406       3.000000      15.000000      34.000000  \n",
       "max       19536.621128       5.000000      24.000000      41.000000  "
      ]
     },
     "execution_count": 3,
     "metadata": {},
     "output_type": "execute_result"
    }
   ],
   "source": [
    "transactions.describe()"
   ]
  },
  {
   "cell_type": "code",
   "execution_count": 4,
   "metadata": {
    "collapsed": true
   },
   "outputs": [],
   "source": [
    "# In this data, few of the columns are normalised. [Installments, Month Lag, Purchase Amount]\n",
    "# The mean of the installments is 0 and min is -1, but have 999 has max value [ Eventhough Normalised ]\n",
    "# Similar thing happening with the Purchase amount."
   ]
  },
  {
   "cell_type": "code",
   "execution_count": 5,
   "metadata": {},
   "outputs": [
    {
     "name": "stdout",
     "output_type": "stream",
     "text": [
      "(500000, 14) \n",
      "\n",
      "<class 'pandas.core.frame.DataFrame'>\n",
      "RangeIndex: 500000 entries, 0 to 499999\n",
      "Data columns (total 14 columns):\n",
      "authorized_flag         500000 non-null object\n",
      "card_id                 500000 non-null object\n",
      "city_id                 500000 non-null int64\n",
      "category_1              500000 non-null object\n",
      "installments            500000 non-null int64\n",
      "category_3              498443 non-null object\n",
      "merchant_category_id    500000 non-null int64\n",
      "merchant_id             497940 non-null object\n",
      "month_lag               500000 non-null int64\n",
      "purchase_amount         500000 non-null float64\n",
      "purchase_date           500000 non-null object\n",
      "category_2              461378 non-null float64\n",
      "state_id                500000 non-null int64\n",
      "subsector_id            500000 non-null int64\n",
      "dtypes: float64(2), int64(6), object(6)\n",
      "memory usage: 53.4+ MB\n"
     ]
    }
   ],
   "source": [
    "print(transactions.shape,'\\n')\n",
    "transactions.info()"
   ]
  },
  {
   "cell_type": "code",
   "execution_count": 6,
   "metadata": {},
   "outputs": [
    {
     "data": {
      "text/plain": [
       "'\\nauthorized_flag\\ncity_id\\ncategory_1\\ncategory_2\\ncategory_3\\nmerchant_category_id\\nstate_id\\nsubsector_id\\n\\n'"
      ]
     },
     "execution_count": 6,
     "metadata": {},
     "output_type": "execute_result"
    }
   ],
   "source": [
    "# Categorical Variables present in this dataset are\n",
    "'''\n",
    "authorized_flag\n",
    "city_id\n",
    "category_1\n",
    "category_2\n",
    "category_3\n",
    "merchant_category_id\n",
    "state_id\n",
    "subsector_id\n",
    "\n",
    "'''"
   ]
  },
  {
   "cell_type": "markdown",
   "metadata": {},
   "source": [
    "2. Find out in each of the categorical features, number of distinct values"
   ]
  },
  {
   "cell_type": "code",
   "execution_count": 7,
   "metadata": {
    "scrolled": true
   },
   "outputs": [
    {
     "name": "stdout",
     "output_type": "stream",
     "text": [
      "Distinct Values in authorized_flag\t 2\n",
      "Distinct Values in city_id\t\t 304\n",
      "Distinct Values in category_1\t\t 2\n",
      "Distinct Values in category_2\t\t 6\n",
      "Distinct Values in category_3\t\t 4\n",
      "Distinct Values in merchant_category_id  287\n",
      "Distinct Values in state_id\t\t 25\n",
      "Distinct Values in subsector_id\t\t 41\n"
     ]
    }
   ],
   "source": [
    "print('Distinct Values in authorized_flag' + '\\t', len(transactions.authorized_flag.unique()))\n",
    "print('Distinct Values in city_id' + '\\t\\t', len(transactions.city_id.unique()))\n",
    "print('Distinct Values in category_1' + '\\t\\t', len(transactions.category_1.unique()))\n",
    "print('Distinct Values in category_2' + '\\t\\t', len(transactions.category_2.unique()))\n",
    "print('Distinct Values in category_3' + '\\t\\t', len(transactions.category_3.unique()))\n",
    "print('Distinct Values in merchant_category_id ', len(transactions.merchant_category_id.unique()))\n",
    "print('Distinct Values in state_id' + '\\t\\t', len(transactions.state_id.unique()))\n",
    "print('Distinct Values in subsector_id' + '\\t\\t', len(transactions.subsector_id.unique()))"
   ]
  },
  {
   "cell_type": "code",
   "execution_count": 8,
   "metadata": {},
   "outputs": [
    {
     "name": "stdout",
     "output_type": "stream",
     "text": [
      "Distinct Card_id count    2400\n"
     ]
    },
    {
     "data": {
      "text/plain": [
       "array([ 1., nan,  3.,  5.,  2.,  4.])"
      ]
     },
     "execution_count": 8,
     "metadata": {},
     "output_type": "execute_result"
    }
   ],
   "source": [
    "print('Distinct Card_id count   ', len(transactions.card_id.unique()))\n",
    "transactions.category_2.unique()"
   ]
  },
  {
   "cell_type": "code",
   "execution_count": 9,
   "metadata": {
    "collapsed": true
   },
   "outputs": [],
   "source": [
    "# Note: \n",
    "# In Category_2 column, there are totally 5 categories. but NAN is also counted as new level."
   ]
  },
  {
   "cell_type": "markdown",
   "metadata": {},
   "source": [
    "3. Understand the number of unique credit card count in for each level in each category.  \n",
    "Example:  \n",
    "In category_2, there are 5 levels. In each level find out the the number of credit card customers.  \n",
    "  \n",
    "Output might look like this:  \n",
    "level1  100  \n",
    "level2  300  \n",
    "level3  50  \n",
    "level4  200  \n",
    "level5  30  \n",
    "\n",
    "On the count, plot a histogram(%) and cummulative histogram with percentage(%). Check the options of histogram plots in matplotlib.  \n",
    "Histogram will show overall distribution. But Cummulative histogram will give you better idea of the number of categories having the bigger portion.  "
   ]
  },
  {
   "cell_type": "code",
   "execution_count": 41,
   "metadata": {
    "scrolled": true
   },
   "outputs": [
    {
     "name": "stdout",
     "output_type": "stream",
     "text": [
      "card_id\n",
      "C_ID_002198cdf1    2\n",
      "C_ID_0032aebb26    2\n",
      "C_ID_003839dd44    2\n",
      "C_ID_0046db9f8a    2\n",
      "C_ID_00727b1b66    2\n",
      "C_ID_007eaf8be8    2\n",
      "C_ID_00a2ac940d    2\n",
      "C_ID_00afd0d796    2\n",
      "C_ID_00c4e6c660    2\n",
      "C_ID_011780608d    2\n",
      "Name: authorized_flag, dtype: int64 \n",
      "\n",
      "authorized_flag\n",
      "N    2248\n",
      "Y    2400\n",
      "Name: card_id, dtype: int64 \n",
      "\n",
      "authorized_flag\n",
      "N    2248\n",
      "Y    2400\n",
      "Name: card_id, dtype: int64\n"
     ]
    }
   ],
   "source": [
    "auth_flag_df = transactions.groupby('card_id')['authorized_flag'].nunique()\n",
    "print(auth_flag_df.head(10),'\\n')\n",
    "\n",
    "auth_flag_df_1 = transactions.groupby('authorized_flag')['card_id'].nunique()\n",
    "print(auth_flag_df_1,'\\n')\n",
    "\n",
    "auth_flag_1 = transactions.groupby('authorized_flag')\n",
    "auth_flag_1 = auth_flag_1['card_id'].nunique()\n",
    "print(auth_flag_1, '\\n')\n",
    "\n",
    "city_id_df = transactions.groupby('city_id')['card_id'].nunique()\n",
    "city_id_df.head()\n",
    "\n"
   ]
  },
  {
   "cell_type": "code",
   "execution_count": null,
   "metadata": {
    "collapsed": true
   },
   "outputs": [],
   "source": []
  },
  {
   "cell_type": "code",
   "execution_count": 74,
   "metadata": {},
   "outputs": [
    {
     "data": {
      "image/png": "[encoded data removed]",
      "text/plain": [
       "<matplotlib.figure.Figure at 0x22c953a3860>"
      ]
     },
     "metadata": {},
     "output_type": "display_data"
    }
   ],
   "source": [
    "values, base = np.histogram(cat2_df, bins=40)\n",
    "#evaluate the cumulative\n",
    "cumulative = np.cumsum(values)\n",
    "# plot the cumulative function\n",
    "plt.plot(base[:-1], cumulative, c='blue')\n",
    "plt.show()"
   ]
  },
  {
   "cell_type": "code",
   "execution_count": 75,
   "metadata": {},
   "outputs": [
    {
     "data": {
      "image/png": "[encoded data removed]",
      "text/plain": [
       "<matplotlib.figure.Figure at 0x22c8dd95ba8>"
      ]
     },
     "metadata": {},
     "output_type": "display_data"
    }
   ],
   "source": [
    "plt.hist(cat1_df, cumulative=True)\n",
    "plt.show()"
   ]
  },
  {
   "cell_type": "code",
   "execution_count": 44,
   "metadata": {},
   "outputs": [
    {
     "name": "stdout",
     "output_type": "stream",
     "text": [
      "merchant_category_id\n",
      "-1      13\n",
      " 2     376\n",
      " 9     112\n",
      " 14     64\n",
      " 16     14\n",
      "Name: card_id, dtype: int64\n",
      "state_id\n",
      "-1    1354\n",
      " 1     107\n",
      " 2     126\n",
      " 3     177\n",
      " 4     235\n",
      "Name: card_id, dtype: int64\n",
      "subsector_id\n",
      "-1      13\n",
      " 1    1828\n",
      " 2     644\n",
      " 3     289\n",
      " 4     317\n",
      "Name: card_id, dtype: int64\n"
     ]
    }
   ],
   "source": [
    "merch_cat_id_df = transactions.groupby('merchant_category_id')['card_id'].nunique()\n",
    "print(merch_cat_id_df.head())\n",
    "\n",
    "state_id_df = transactions.groupby('state_id')['card_id'].nunique()\n",
    "print(state_id_df.head())\n",
    "\n",
    "subsector_id_df = transactions.groupby('subsector_id')['card_id'].nunique()\n",
    "print(subsector_id_df.head())"
   ]
  },
  {
   "cell_type": "code",
   "execution_count": 18,
   "metadata": {},
   "outputs": [
    {
     "data": {
      "text/plain": [
       "287"
      ]
     },
     "execution_count": 18,
     "metadata": {},
     "output_type": "execute_result"
    }
   ],
   "source": [
    "len(transactions.merchant_category_id.unique())"
   ]
  },
  {
   "cell_type": "code",
   "execution_count": 46,
   "metadata": {},
   "outputs": [
    {
     "name": "stdout",
     "output_type": "stream",
     "text": [
      "category_1\n",
      "N    2391\n",
      "Y    1146\n",
      "Name: card_id, dtype: int64\n",
      "category_2\n",
      "1.0    2282\n",
      "2.0     322\n",
      "3.0     782\n",
      "4.0     484\n",
      "5.0     978\n",
      "Name: card_id, dtype: int64\n",
      "category_3\n",
      "A    1426\n",
      "B    1941\n",
      "C    1072\n",
      "Name: card_id, dtype: int64\n"
     ]
    }
   ],
   "source": [
    "cat1_df = transactions.groupby('category_1')['card_id'].nunique()\n",
    "print(cat1_df.head())\n",
    "\n",
    "cat2_df = transactions.groupby('category_2')['card_id'].nunique()\n",
    "print(cat2_df.head())\n",
    "\n",
    "cat3_df = transactions.groupby('category_3')['card_id'].nunique()\n",
    "print(cat3_df.head())"
   ]
  },
  {
   "cell_type": "code",
   "execution_count": 10,
   "metadata": {
    "collapsed": true
   },
   "outputs": [],
   "source": [
    "trans_data = pd.read_csv('C:\\\\Kaggle competetion datasets\\\\Elo Merchent Category Recommendation\\\\historical_transactions.csv',\n",
    "                        usecols=['card_id','merchant_category_id'])"
   ]
  },
  {
   "cell_type": "code",
   "execution_count": 11,
   "metadata": {},
   "outputs": [
    {
     "name": "stdout",
     "output_type": "stream",
     "text": [
      "<class 'pandas.core.frame.DataFrame'>\n",
      "RangeIndex: 29112361 entries, 0 to 29112360\n",
      "Data columns (total 2 columns):\n",
      "card_id                 object\n",
      "merchant_category_id    int64\n",
      "dtypes: int64(1), object(1)\n",
      "memory usage: 444.2+ MB\n"
     ]
    }
   ],
   "source": [
    "trans_data.info()"
   ]
  },
  {
   "cell_type": "code",
   "execution_count": null,
   "metadata": {
    "collapsed": true
   },
   "outputs": [],
   "source": [
    "# each card lo enthamandi merchants\n",
    "# each merchnt lo enni card\n"
   ]
  },
  {
   "cell_type": "code",
   "execution_count": 12,
   "metadata": {
    "scrolled": true
   },
   "outputs": [
    {
     "data": {
      "text/plain": [
       "card_id\n",
       "C_ID_00007093c1    18\n",
       "C_ID_0001238066    29\n",
       "C_ID_0001506ef0    19\n",
       "C_ID_0001793786    48\n",
       "C_ID_000183fdda    36\n",
       "dtype: int64"
      ]
     },
     "execution_count": 12,
     "metadata": {},
     "output_type": "execute_result"
    }
   ],
   "source": [
    "card_merchant = trans_data.groupby('card_id').apply(lambda x: x.merchant_category_id.nunique())\n",
    "card_merchant.head()"
   ]
  },
  {
   "cell_type": "code",
   "execution_count": 13,
   "metadata": {},
   "outputs": [
    {
     "data": {
      "text/plain": [
       "(array([1.1284e+04, 1.7449e+04, 3.5962e+04, 2.6782e+04, 2.7152e+04,\n",
       "        3.8427e+04, 2.3644e+04, 2.1392e+04, 2.7706e+04, 1.5425e+04,\n",
       "        1.3330e+04, 1.6522e+04, 8.7330e+03, 7.5150e+03, 9.0330e+03,\n",
       "        4.7810e+03, 3.9430e+03, 4.6380e+03, 2.4280e+03, 1.9360e+03,\n",
       "        2.2890e+03, 1.1200e+03, 1.2920e+03, 6.3000e+02, 5.0000e+02,\n",
       "        5.8100e+02, 2.5200e+02, 2.0800e+02, 2.3600e+02, 1.1300e+02,\n",
       "        7.3000e+01, 7.0000e+01, 3.0000e+01, 2.0000e+01, 2.4000e+01,\n",
       "        8.0000e+00, 2.0000e+00, 6.0000e+00, 3.0000e+00, 1.0000e+00]),\n",
       " array([ 1.  ,  3.35,  5.7 ,  8.05, 10.4 , 12.75, 15.1 , 17.45, 19.8 ,\n",
       "        22.15, 24.5 , 26.85, 29.2 , 31.55, 33.9 , 36.25, 38.6 , 40.95,\n",
       "        43.3 , 45.65, 48.  , 50.35, 52.7 , 55.05, 57.4 , 59.75, 62.1 ,\n",
       "        64.45, 66.8 , 69.15, 71.5 , 73.85, 76.2 , 78.55, 80.9 , 83.25,\n",
       "        85.6 , 87.95, 90.3 , 92.65, 95.  ]),\n",
       " <a list of 40 Patch objects>)"
      ]
     },
     "execution_count": 13,
     "metadata": {},
     "output_type": "execute_result"
    },
    {
     "data": {
      "image/png": "[encoded data removed]",
      "text/plain": [
       "<Figure size 432x288 with 1 Axes>"
      ]
     },
     "metadata": {},
     "output_type": "display_data"
    }
   ],
   "source": [
    "plt.hist(card_merchant, bins=40)"
   ]
  },
  {
   "cell_type": "code",
   "execution_count": 14,
   "metadata": {},
   "outputs": [
    {
     "data": {
      "text/plain": [
       "(array([1.47499605e-02, 2.28085838e-02, 4.70079828e-02, 3.50082808e-02,\n",
       "        3.54919290e-02, 5.02301250e-02, 3.09064219e-02, 2.79627042e-02,\n",
       "        3.62160940e-02, 2.01628979e-02, 1.74244038e-02, 2.15968492e-02,\n",
       "        1.14154028e-02, 9.82328543e-03, 1.18075499e-02, 6.24951799e-03,\n",
       "        5.15412036e-03, 6.06259452e-03, 3.17377738e-03, 2.53065610e-03,\n",
       "        2.99208255e-03, 1.46401593e-03, 1.68884694e-03, 8.23508959e-04,\n",
       "        6.53578539e-04, 7.59458262e-04, 3.29403583e-04, 2.71888672e-04,\n",
       "        3.08489070e-04, 1.47708750e-04, 9.54224666e-05, 9.15009954e-05,\n",
       "        3.92147123e-05, 2.61431415e-05, 3.13717699e-05, 1.04572566e-05,\n",
       "        2.61431415e-06, 7.84294246e-06, 3.92147123e-06, 1.30715708e-06]),\n",
       " array([ 1.  ,  3.35,  5.7 ,  8.05, 10.4 , 12.75, 15.1 , 17.45, 19.8 ,\n",
       "        22.15, 24.5 , 26.85, 29.2 , 31.55, 33.9 , 36.25, 38.6 , 40.95,\n",
       "        43.3 , 45.65, 48.  , 50.35, 52.7 , 55.05, 57.4 , 59.75, 62.1 ,\n",
       "        64.45, 66.8 , 69.15, 71.5 , 73.85, 76.2 , 78.55, 80.9 , 83.25,\n",
       "        85.6 , 87.95, 90.3 , 92.65, 95.  ]),\n",
       " <a list of 40 Patch objects>)"
      ]
     },
     "execution_count": 14,
     "metadata": {},
     "output_type": "execute_result"
    },
    {
     "data": {
      "image/png": "[encoded data removed]",
      "text/plain": [
       "<Figure size 432x288 with 1 Axes>"
      ]
     },
     "metadata": {},
     "output_type": "display_data"
    }
   ],
   "source": [
    "plt.hist(card_merchant, bins=40, density = True)"
   ]
  },
  {
   "cell_type": "code",
   "execution_count": 15,
   "metadata": {},
   "outputs": [
    {
     "data": {
      "text/plain": [
       "(array([0.03466241, 0.08826258, 0.19873134, 0.2810008 , 0.36440683,\n",
       "        0.48244763, 0.55507772, 0.62079007, 0.70589789, 0.7532807 ,\n",
       "        0.79422805, 0.84498065, 0.87180684, 0.89489156, 0.92263931,\n",
       "        0.93732567, 0.94943786, 0.96368495, 0.97114333, 0.97709037,\n",
       "        0.98412177, 0.9875622 , 0.99153099, 0.99346624, 0.99500215,\n",
       "        0.99678688, 0.99756098, 0.99819991, 0.99892486, 0.99927198,\n",
       "        0.99949622, 0.99971125, 0.9998034 , 0.99986484, 0.99993856,\n",
       "        0.99996314, 0.99996928, 0.99998771, 0.99999693, 1.        ]),\n",
       " array([ 1.  ,  3.35,  5.7 ,  8.05, 10.4 , 12.75, 15.1 , 17.45, 19.8 ,\n",
       "        22.15, 24.5 , 26.85, 29.2 , 31.55, 33.9 , 36.25, 38.6 , 40.95,\n",
       "        43.3 , 45.65, 48.  , 50.35, 52.7 , 55.05, 57.4 , 59.75, 62.1 ,\n",
       "        64.45, 66.8 , 69.15, 71.5 , 73.85, 76.2 , 78.55, 80.9 , 83.25,\n",
       "        85.6 , 87.95, 90.3 , 92.65, 95.  ]),\n",
       " <a list of 40 Patch objects>)"
      ]
     },
     "execution_count": 15,
     "metadata": {},
     "output_type": "execute_result"
    },
    {
     "data": {
      "image/png": "[encoded data removed]",
      "text/plain": [
       "<Figure size 432x288 with 1 Axes>"
      ]
     },
     "metadata": {},
     "output_type": "display_data"
    }
   ],
   "source": [
    "plt.hist(card_merchant, bins=40, density = True, cumulative=True)"
   ]
  },
  {
   "cell_type": "code",
   "execution_count": 16,
   "metadata": {},
   "outputs": [
    {
     "data": {
      "text/plain": [
       "merchant_category_id\n",
       "-1      1364\n",
       " 2     28107\n",
       " 9      6760\n",
       " 11       22\n",
       " 14     4797\n",
       "dtype: int64"
      ]
     },
     "execution_count": 16,
     "metadata": {},
     "output_type": "execute_result"
    }
   ],
   "source": [
    "merchant_card = trans_data.groupby('merchant_category_id').apply(lambda x:x.card_id.nunique() )\n",
    "merchant_card.head()"
   ]
  },
  {
   "cell_type": "code",
   "execution_count": 17,
   "metadata": {},
   "outputs": [
    {
     "data": {
      "text/plain": [
       "(array([0.63608563, 0.73700306, 0.78899083, 0.83486239, 0.85626911,\n",
       "        0.88990826, 0.89908257, 0.91131498, 0.9204893 , 0.92966361,\n",
       "        0.93272171, 0.94189602, 0.95412844, 0.95412844, 0.95718654,\n",
       "        0.96024465, 0.96636086, 0.96941896, 0.96941896, 0.97247706,\n",
       "        0.97247706, 0.97859327, 0.98165138, 0.98165138, 0.98165138,\n",
       "        0.98165138, 0.98165138, 0.98165138, 0.98470948, 0.98776758,\n",
       "        0.98776758, 0.99082569, 0.9969419 , 0.9969419 , 0.9969419 ,\n",
       "        0.9969419 , 0.9969419 , 0.9969419 , 0.9969419 , 1.        ]),\n",
       " array([1.000000e+00, 7.109900e+03, 1.421880e+04, 2.132770e+04,\n",
       "        2.843660e+04, 3.554550e+04, 4.265440e+04, 4.976330e+04,\n",
       "        5.687220e+04, 6.398110e+04, 7.109000e+04, 7.819890e+04,\n",
       "        8.530780e+04, 9.241670e+04, 9.952560e+04, 1.066345e+05,\n",
       "        1.137434e+05, 1.208523e+05, 1.279612e+05, 1.350701e+05,\n",
       "        1.421790e+05, 1.492879e+05, 1.563968e+05, 1.635057e+05,\n",
       "        1.706146e+05, 1.777235e+05, 1.848324e+05, 1.919413e+05,\n",
       "        1.990502e+05, 2.061591e+05, 2.132680e+05, 2.203769e+05,\n",
       "        2.274858e+05, 2.345947e+05, 2.417036e+05, 2.488125e+05,\n",
       "        2.559214e+05, 2.630303e+05, 2.701392e+05, 2.772481e+05,\n",
       "        2.843570e+05]),\n",
       " <a list of 40 Patch objects>)"
      ]
     },
     "execution_count": 17,
     "metadata": {},
     "output_type": "execute_result"
    },
    {
     "data": {
      "image/png": "[encoded data removed]",
      "text/plain": [
       "<Figure size 432x288 with 1 Axes>"
      ]
     },
     "metadata": {},
     "output_type": "display_data"
    }
   ],
   "source": [
    "plt.hist(merchant_card, bins=40, density = True, cumulative=True)"
   ]
  },
  {
   "cell_type": "code",
   "execution_count": 21,
   "metadata": {},
   "outputs": [
    {
     "data": {
      "text/html": [
       "<div>\n",
       "<style>\n",
       "    .dataframe thead tr:only-child th {\n",
       "        text-align: right;\n",
       "    }\n",
       "\n",
       "    .dataframe thead th {\n",
       "        text-align: left;\n",
       "    }\n",
       "\n",
       "    .dataframe tbody tr th {\n",
       "        vertical-align: top;\n",
       "    }\n",
       "</style>\n",
       "<table border=\"1\" class=\"dataframe\">\n",
       "  <thead>\n",
       "    <tr style=\"text-align: right;\">\n",
       "      <th></th>\n",
       "      <th>merchant_category_id</th>\n",
       "      <th>0</th>\n",
       "    </tr>\n",
       "  </thead>\n",
       "  <tbody>\n",
       "    <tr>\n",
       "      <th>0</th>\n",
       "      <td>-1</td>\n",
       "      <td>2252</td>\n",
       "    </tr>\n",
       "    <tr>\n",
       "      <th>1</th>\n",
       "      <td>2</td>\n",
       "      <td>46162</td>\n",
       "    </tr>\n",
       "    <tr>\n",
       "      <th>2</th>\n",
       "      <td>9</td>\n",
       "      <td>13806</td>\n",
       "    </tr>\n",
       "    <tr>\n",
       "      <th>3</th>\n",
       "      <td>11</td>\n",
       "      <td>38</td>\n",
       "    </tr>\n",
       "    <tr>\n",
       "      <th>4</th>\n",
       "      <td>14</td>\n",
       "      <td>10225</td>\n",
       "    </tr>\n",
       "  </tbody>\n",
       "</table>\n",
       "</div>"
      ],
      "text/plain": [
       "   merchant_category_id      0\n",
       "0                    -1   2252\n",
       "1                     2  46162\n",
       "2                     9  13806\n",
       "3                    11     38\n",
       "4                    14  10225"
      ]
     },
     "execution_count": 21,
     "metadata": {},
     "output_type": "execute_result"
    }
   ],
   "source": [
    "merchant = trans_data.groupby('merchant_category_id').apply(lambda x:len(x)).reset_index()\n",
    "merchant.head()"
   ]
  },
  {
   "cell_type": "code",
   "execution_count": null,
   "metadata": {
    "collapsed": true
   },
   "outputs": [],
   "source": [
    "plt.hist(merchant, bins=40, density = True, cumulative=True)"
   ]
  },
  {
   "cell_type": "code",
   "execution_count": 22,
   "metadata": {
    "collapsed": true
   },
   "outputs": [],
   "source": [
    "merchant.columns = ['merchant_category_id', 'frequency']"
   ]
  },
  {
   "cell_type": "code",
   "execution_count": 29,
   "metadata": {},
   "outputs": [
    {
     "data": {
      "text/html": [
       "<div>\n",
       "<style>\n",
       "    .dataframe thead tr:only-child th {\n",
       "        text-align: right;\n",
       "    }\n",
       "\n",
       "    .dataframe thead th {\n",
       "        text-align: left;\n",
       "    }\n",
       "\n",
       "    .dataframe tbody tr th {\n",
       "        vertical-align: top;\n",
       "    }\n",
       "</style>\n",
       "<table border=\"1\" class=\"dataframe\">\n",
       "  <thead>\n",
       "    <tr style=\"text-align: right;\">\n",
       "      <th></th>\n",
       "      <th>merchant_category_id</th>\n",
       "      <th>frequency</th>\n",
       "      <th>frequency_cum</th>\n",
       "      <th>freq_cum_%</th>\n",
       "    </tr>\n",
       "  </thead>\n",
       "  <tbody>\n",
       "    <tr>\n",
       "      <th>317</th>\n",
       "      <td>873</td>\n",
       "      <td>1840</td>\n",
       "      <td>27250393</td>\n",
       "      <td>0.936042</td>\n",
       "    </tr>\n",
       "    <tr>\n",
       "      <th>318</th>\n",
       "      <td>875</td>\n",
       "      <td>1</td>\n",
       "      <td>27250394</td>\n",
       "      <td>0.936042</td>\n",
       "    </tr>\n",
       "    <tr>\n",
       "      <th>319</th>\n",
       "      <td>878</td>\n",
       "      <td>124</td>\n",
       "      <td>27250518</td>\n",
       "      <td>0.936046</td>\n",
       "    </tr>\n",
       "    <tr>\n",
       "      <th>320</th>\n",
       "      <td>879</td>\n",
       "      <td>1430607</td>\n",
       "      <td>28681125</td>\n",
       "      <td>0.985187</td>\n",
       "    </tr>\n",
       "    <tr>\n",
       "      <th>321</th>\n",
       "      <td>881</td>\n",
       "      <td>101</td>\n",
       "      <td>28681226</td>\n",
       "      <td>0.985191</td>\n",
       "    </tr>\n",
       "    <tr>\n",
       "      <th>322</th>\n",
       "      <td>882</td>\n",
       "      <td>1</td>\n",
       "      <td>28681227</td>\n",
       "      <td>0.985191</td>\n",
       "    </tr>\n",
       "    <tr>\n",
       "      <th>323</th>\n",
       "      <td>884</td>\n",
       "      <td>416465</td>\n",
       "      <td>29097692</td>\n",
       "      <td>0.999496</td>\n",
       "    </tr>\n",
       "    <tr>\n",
       "      <th>324</th>\n",
       "      <td>885</td>\n",
       "      <td>7555</td>\n",
       "      <td>29105247</td>\n",
       "      <td>0.999756</td>\n",
       "    </tr>\n",
       "    <tr>\n",
       "      <th>325</th>\n",
       "      <td>889</td>\n",
       "      <td>677</td>\n",
       "      <td>29105924</td>\n",
       "      <td>0.999779</td>\n",
       "    </tr>\n",
       "    <tr>\n",
       "      <th>326</th>\n",
       "      <td>891</td>\n",
       "      <td>6437</td>\n",
       "      <td>29112361</td>\n",
       "      <td>1.000000</td>\n",
       "    </tr>\n",
       "  </tbody>\n",
       "</table>\n",
       "</div>"
      ],
      "text/plain": [
       "     merchant_category_id  frequency  frequency_cum  freq_cum_%\n",
       "317                   873       1840       27250393    0.936042\n",
       "318                   875          1       27250394    0.936042\n",
       "319                   878        124       27250518    0.936046\n",
       "320                   879    1430607       28681125    0.985187\n",
       "321                   881        101       28681226    0.985191\n",
       "322                   882          1       28681227    0.985191\n",
       "323                   884     416465       29097692    0.999496\n",
       "324                   885       7555       29105247    0.999756\n",
       "325                   889        677       29105924    0.999779\n",
       "326                   891       6437       29112361    1.000000"
      ]
     },
     "execution_count": 29,
     "metadata": {},
     "output_type": "execute_result"
    }
   ],
   "source": [
    "merchant['frequency_cum'] = merchant['frequency'].cumsum()\n",
    "\n",
    "merchant['freq_cum_%'] = merchant.loc[:, 'frequency_cum'].div(np.max(merchant['frequency_cum'], axis=0))\n",
    "merchant.tail(10)"
   ]
  },
  {
   "cell_type": "code",
   "execution_count": 28,
   "metadata": {},
   "outputs": [
    {
     "data": {
      "text/plain": [
       "29112361"
      ]
     },
     "execution_count": 28,
     "metadata": {},
     "output_type": "execute_result"
    }
   ],
   "source": [
    "np.max(merchant['frequency_cum'])"
   ]
  },
  {
   "cell_type": "code",
   "execution_count": null,
   "metadata": {
    "collapsed": true
   },
   "outputs": [],
   "source": [
    "# each merchant dagara entha % transactions unnay"
   ]
  }
 ],
 "metadata": {
  "kernelspec": {
   "display_name": "Python 3",
   "language": "python",
   "name": "python3"
  },
  "language_info": {
   "codemirror_mode": {
    "name": "ipython",
    "version": 3
   },
   "file_extension": ".py",
   "mimetype": "text/x-python",
   "name": "python",
   "nbconvert_exporter": "python",
   "pygments_lexer": "ipython3",
   "version": "3.6.2"
  }
 },
 "nbformat": 4,
 "nbformat_minor": 2
}
